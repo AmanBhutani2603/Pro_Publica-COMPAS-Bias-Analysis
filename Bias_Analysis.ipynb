{
  "nbformat": 4,
  "nbformat_minor": 0,
  "metadata": {
    "colab": {
      "name": "Bias_Analysis.ipynb",
      "provenance": [],
      "collapsed_sections": []
    },
    "kernelspec": {
      "name": "python3",
      "display_name": "Python 3"
    }
  },
  "cells": [
    {
      "cell_type": "markdown",
      "metadata": {
        "id": "T8Kfhkgqmt9c"
      },
      "source": [
        "In the following notebook reasons for attempts are made to find the features which incorporate racial bias into the data set. As noted from the Random forest feature importance graph the most imoortant features are:\n",
        "\n",
        "\n",
        "\n",
        "1. Prior_counts\n",
        "2. juv_misd_count\n",
        "3. juv_other_count\n",
        "4. age_cat\n",
        "5. sex\n",
        "\n",
        "Using these features I will try to predict race using these features to find if there are any features unknowingly incorporating racial component into the dataset."
      ]
    },
    {
      "cell_type": "code",
      "metadata": {
        "id": "TY0YeukJs40k",
        "colab": {
          "base_uri": "https://localhost:8080/"
        },
        "outputId": "e3de3114-9440-4e4c-ec40-f0b03341395b"
      },
      "source": [
        "from google.colab import drive\n",
        "drive.mount('/gdrive', force_remount = True)\n",
        "#%cd /gdrive/My\\ Drive"
      ],
      "execution_count": null,
      "outputs": [
        {
          "output_type": "stream",
          "text": [
            "Mounted at /gdrive\n"
          ],
          "name": "stdout"
        }
      ]
    },
    {
      "cell_type": "code",
      "metadata": {
        "id": "7bB6oFGOq2jR"
      },
      "source": [
        "import pickle\n",
        "import numpy as np\n",
        "import pandas as pd\n",
        "arr = []\n",
        "file_name = 'data.pkl'\n",
        "data = (pickle.load(open(r'/gdrive/My Drive/'+file_name,'rb')))"
      ],
      "execution_count": null,
      "outputs": []
    },
    {
      "cell_type": "code",
      "metadata": {
        "id": "xzwJxBktq6Qj"
      },
      "source": [
        "#TODO: 1. Create inout dataset with the most important features\n",
        "#      2. Create an output dataset and label all the categories \n",
        "#         except African-American as others.\n",
        " \n",
        "inp_data = data[['age_cat', 'juv_misd_count', 'priors_count', 'sex', 'juv_other_count']].copy()\n",
        "out_data = data[['race']].copy()\n",
        "out_data.loc[out_data['race'] != 'African-American', 'race'] = 'Others'"
      ],
      "execution_count": null,
      "outputs": []
    },
    {
      "cell_type": "markdown",
      "metadata": {
        "id": "1OD65GOvItGJ"
      },
      "source": [
        "All the categories except African-American are labeled as others due to the imbalanced distribution of the categories where almost 50% of the classes are African-American and rest 50% consist of other races(Caucassian, Native American, Hispanic etc.) "
      ]
    },
    {
      "cell_type": "code",
      "metadata": {
        "id": "vGu40ovRLW1Z",
        "colab": {
          "base_uri": "https://localhost:8080/"
        },
        "outputId": "e9809ab5-85ab-47f8-b9d2-2300a08b40cd"
      },
      "source": [
        "out_data['race'].value_counts()"
      ],
      "execution_count": null,
      "outputs": [
        {
          "output_type": "execute_result",
          "data": {
            "text/plain": [
              "African-American    5336\n",
              "Others              5262\n",
              "Name: race, dtype: int64"
            ]
          },
          "metadata": {
            "tags": []
          },
          "execution_count": 4
        }
      ]
    },
    {
      "cell_type": "code",
      "metadata": {
        "id": "B2tKEJZq1h5c",
        "colab": {
          "base_uri": "https://localhost:8080/",
          "height": 466
        },
        "outputId": "5da4e116-1793-48b9-a71a-4995bf245f3e"
      },
      "source": [
        "import matplotlib.pyplot as plt\n",
        "#dict 'race' is sreated for distribution of race feature\n",
        "race = out_data['race'].value_counts().to_dict()\n",
        "#label: type of race\n",
        "label = []\n",
        "#count: number of people of that race\n",
        "count = []\n",
        "\n",
        "for i in race.items():\n",
        "  #values are stored in count, label using race dict \n",
        "  label.append(i[0])\n",
        "  count.append(i[1])\n",
        "\n",
        "plt.style.use(['ggplot'])\n",
        "plt.figure(figsize=(8,8))\n",
        "plt.pie(count, labels = label, autopct='%1.2f', startangle=90)\n",
        "plt.axis('equal')\n",
        "plt.show()"
      ],
      "execution_count": null,
      "outputs": [
        {
          "output_type": "display_data",
          "data": {
            "image/png": "[encoded data removed]",
            "text/plain": [
              "<Figure size 576x576 with 1 Axes>"
            ]
          },
          "metadata": {
            "tags": []
          }
        }
      ]
    },
    {
      "cell_type": "markdown",
      "metadata": {
        "id": "Re1dIwuFrKwr"
      },
      "source": [
        "In order to balance the classes in the output data classes other than African-American are renamed as \"Others\" this will help us to judge the performance of models on the basis of accuracy itself."
      ]
    },
    {
      "cell_type": "code",
      "metadata": {
        "id": "An7MaCCt6ANK"
      },
      "source": [
        "from sklearn.svm import SVC\n",
        "from sklearn.neural_network import MLPClassifier\n",
        "from sklearn.ensemble import RandomForestClassifier\n",
        "from sklearn.model_selection import GridSearchCV\n",
        "from sklearn.metrics import classification_report\n",
        "from sklearn.metrics import accuracy_score\n",
        "from sklearn.metrics import precision_recall_curve\n",
        "from sklearn.metrics import precision_score\n",
        "from sklearn.metrics import recall_score\n",
        "from sklearn.model_selection import train_test_split\n",
        "from sklearn.metrics import plot_confusion_matrix\n",
        "from sklearn.model_selection import cross_validate\n",
        "import pickle\n",
        "import matplotlib.pyplot as plt\n",
        "from sklearn.model_selection import learning_curve\n",
        "from sklearn.metrics import roc_auc_score\n",
        "from sklearn.metrics import plot_roc_curve"
      ],
      "execution_count": null,
      "outputs": []
    },
    {
      "cell_type": "code",
      "metadata": {
        "id": "eqwGOlaQnIwI"
      },
      "source": [
        "def get_dummies(df):\n",
        "  #Binarizes the features of dataset passed in df\n",
        "  df = pd.get_dummies(df)\n",
        "  return df"
      ],
      "execution_count": null,
      "outputs": []
    },
    {
      "cell_type": "code",
      "metadata": {
        "id": "KlUDA7K2f0Wd"
      },
      "source": [
        "def drop_col(df, col_name):\n",
        "  #Drops column from dataset passed in col_name \n",
        "  df.drop(col_name, axis = 1)\n",
        "  return df"
      ],
      "execution_count": null,
      "outputs": []
    },
    {
      "cell_type": "code",
      "metadata": {
        "id": "VcOGF7HG6WRP"
      },
      "source": [
        "def data_split(inp_data, out_data):\n",
        "  X_train, X_test, y_train, y_test = train_test_split(inp_data.to_numpy(), out_data.to_numpy(), test_size=0.20, random_state=42, stratify = out_data.to_numpy())\n",
        "  return X_train, X_test, y_train, y_test"
      ],
      "execution_count": null,
      "outputs": []
    },
    {
      "cell_type": "code",
      "metadata": {
        "id": "uE739PhdhES0"
      },
      "source": [
        "svm_parameters ={\n",
        "              \"kernel\": [\"rbf\"],\n",
        "              \"C\": [0.1, 0.5, 1, 5],\n",
        "              \"gamma\": [0.01, 0.05, 0.1]\n",
        "            }"
      ],
      "execution_count": null,
      "outputs": []
    },
    {
      "cell_type": "code",
      "metadata": {
        "id": "yzWwjiOGiN1w"
      },
      "source": [
        "def svm_classifier(X_train, X_test, y_train, y_test, parameters):\n",
        "  '''The following function when called will perform an exhaustive search \n",
        "      over all the para,eters to find the set of parameters which give \n",
        "      the best fit of parameters with lowest cross validation error and \n",
        "      uses svm classifier to fit the parameters into the dataset'''\n",
        "      \n",
        "  svm = SVC(probability = True)\n",
        "\n",
        "  print(\"finding best value for C and gamma\")\n",
        "  print(\"################\")\n",
        "\n",
        "  #Finding best parameters C and gamma using GridserchCV\n",
        "\n",
        "  clf = GridSearchCV(svm, param_grid = parameters,  cv=5, n_jobs=-1, verbose=0.3, refit = 'precision_weighted')\n",
        "  clf.fit(X_train, y_train.ravel())\n",
        "  ypred = clf.predict(X_test)\n",
        "\n",
        "  tuned_clf = clf.best_estimator_\n",
        "  acc = clf.score(X_test,y_test.ravel())\n",
        "  \n",
        "  print(\"#################\")\n",
        "  print()\n",
        "  print(\"Classifier accuracy is\",acc)\n",
        "  \n",
        "  return tuned_clf, acc"
      ],
      "execution_count": null,
      "outputs": []
    },
    {
      "cell_type": "code",
      "metadata": {
        "id": "mhJb9nx895zI"
      },
      "source": [
        "n_estimators = [int(x) for x in np.linspace(start = 50, stop = 500, num = 5)]\n",
        "max_features = ['sqrt']\n",
        "max_depth = [int(x) for x in np.linspace(10, 40, num = 5)]\n",
        "max_depth.append(None)\n",
        "min_samples_split = [2, 5, 10]\n",
        "min_samples_leaf = [1, 2, 4]\n",
        "bootstrap = [True]\n",
        "\n",
        "rfc_parameters = {'n_estimators': n_estimators,\n",
        "               'max_features': max_features,\n",
        "               'max_depth': max_depth,\n",
        "               'min_samples_split': min_samples_split,\n",
        "               'min_samples_leaf': min_samples_leaf,\n",
        "               'bootstrap': bootstrap}"
      ],
      "execution_count": null,
      "outputs": []
    },
    {
      "cell_type": "code",
      "metadata": {
        "id": "b05F6DR3R6x4"
      },
      "source": [
        "def rfc_clf(X_train, X_test, y_train, y_test, parameters):\n",
        "  '''The following function when called will perform an exhaustive search \n",
        "    over all the para,eters to find the set of parameters which give \n",
        "     the best fit of parameters with lowest cross validation error and \n",
        "     uses rfc classifier to fit the parameters into the dataset'''\n",
        "\n",
        "  rfc = RandomForestClassifier()\n",
        "  clf = GridSearchCV(rfc, param_grid = parameters,  cv=3, n_jobs=-1, verbose=0.3, refit = 'precision_weighted')\n",
        "  clf.fit(X_train, y_train.ravel())\n",
        "  ypred = clf.predict(X_test)\n",
        "  y_predprob = clf.predict_proba(X_test)\n",
        "\n",
        "  tuned_clf = clf.best_estimator_\n",
        "  acc = clf.score(X_test,y_test.ravel())\n",
        "  print(\"####################\")\n",
        "  print()\n",
        "  print(\"Classifier accuracy is\",acc)\n",
        "\n",
        "  return tuned_clf, acc"
      ],
      "execution_count": null,
      "outputs": []
    },
    {
      "cell_type": "code",
      "metadata": {
        "id": "o_psTVUn-GtS"
      },
      "source": [
        "mlp_parameters = {\n",
        "      'hidden_layer_sizes': [(20,)],\n",
        "      'activation': ['logistic', 'relu'],\n",
        "      'solver': ['adam', 'lbfgs', 'sgd'],\n",
        "      'alpha': [int(x) for x in np.linspace(10, 110, num = 5)],\n",
        "      'learning_rate': ['constant','adaptive'],\n",
        "}"
      ],
      "execution_count": null,
      "outputs": []
    },
    {
      "cell_type": "code",
      "metadata": {
        "id": "V_bGH5EtHKQi"
      },
      "source": [
        "def mlp_clf(X_train, X_test, y_train, y_test, parameters):\n",
        "  '''The following function when called will perform an exhaustive search \n",
        "    over all the para,eters to find the set of parameters which give \n",
        "    the best fit of parameters with lowest cross validation error and \n",
        "    uses mlp classifier to fit the parameters into the dataset'''\n",
        "\n",
        "  mlp = MLPClassifier(max_iter = 2000)\n",
        "  clf = GridSearchCV(mlp, param_grid = parameters,  cv=3, n_jobs=-1, verbose=0.3, refit = 'precision_weighted')\n",
        "  clf.fit(X_train, y_train.ravel())\n",
        "  ypred = clf.predict(X_test)\n",
        "\n",
        "  tuned_clf = clf.best_estimator_\n",
        "  acc = clf.score(X_test,y_test.ravel())\n",
        "  print(\"#####################\")\n",
        "  print()\n",
        "  print(\"Classifier accuracy is\",acc)\n",
        "  return tuned_clf, acc"
      ],
      "execution_count": null,
      "outputs": []
    },
    {
      "cell_type": "markdown",
      "metadata": {
        "id": "hAO70AKFJ_O1"
      },
      "source": [
        "## **Support Vector Machine**"
      ]
    },
    {
      "cell_type": "code",
      "metadata": {
        "id": "YW4RcLXpi3t8",
        "colab": {
          "base_uri": "https://localhost:8080/"
        },
        "outputId": "b50feec3-7c47-460c-e611-8ae9af0d8915"
      },
      "source": [
        "#TODO: 1. Fit the model in the dataset without any features removed\n",
        "#      2. Iterate over list \"drop_col_name\" and remove that feature\n",
        "#      3. Fit the model in each successive dataset created\n",
        "#      4. Store the results and datset types in datset_type and svm_res\n",
        "\n",
        "#stores the type of dataset used\n",
        "dataset_type = []\n",
        "\n",
        "#stores the accuracy of the model\n",
        "svm_res = []         \n",
        "\n",
        "#specifies the feature to be dropped from the dataset\n",
        "drop_col_name = ['sex', 'juv_other_count', 'juv_misd_count', 'age_cat']\n",
        "df = inp_data\n",
        "X_train, X_test, y_train, y_test = data_split(get_dummies(df), out_data)\n",
        "\n",
        "print(\"******************Using Base Dataset*********************\")\n",
        "print()\n",
        "dataset_type.append('base_dataset')\n",
        "\n",
        "tuned_clf_svm, svm_acc = svm_classifier(X_train, X_test, y_train, y_test, svm_parameters)\n",
        "svm_res.append(svm_acc) \n",
        "\n",
        "#A column is dropped at each iteration\n",
        "for i in drop_col_name:\n",
        "  df = drop_col(df, i)\n",
        "  X_train, X_test, y_train, y_test = data_split(get_dummies(df), out_data)\n",
        "\n",
        "  print(\"********************On removing\",i+\"********************\")\n",
        "  print()\n",
        "  dataset_type.append(i+'_removed')\n",
        "  #Train and test dataset are passed as parameters to svm classifier which returns accuracy\n",
        "  tuned_clf_svm, svm_acc = svm_classifier(X_train, X_test, y_train, y_test, svm_parameters)\n",
        "  svm_res.append(svm_acc)"
      ],
      "execution_count": null,
      "outputs": [
        {
          "output_type": "stream",
          "text": [
            "******************Using Base Dataset*********************\n",
            "\n",
            "finding best value for C and gamma\n",
            "################\n",
            "Fitting 5 folds for each of 12 candidates, totalling 60 fits\n"
          ],
          "name": "stdout"
        },
        {
          "output_type": "stream",
          "text": [
            "[Parallel(n_jobs=-1)]: Using backend LokyBackend with 2 concurrent workers.\n",
            "[Parallel(n_jobs=-1)]: Done  54 tasks      | elapsed:  7.8min\n",
            "[Parallel(n_jobs=-1)]: Done  60 out of  60 | elapsed:  9.0min finished\n"
          ],
          "name": "stderr"
        },
        {
          "output_type": "stream",
          "text": [
            "#################\n",
            "\n",
            "Classifier accuracy is 0.6216981132075472\n",
            "********************On removing sex********************\n",
            "\n",
            "finding best value for C and gamma\n",
            "################\n",
            "Fitting 5 folds for each of 12 candidates, totalling 60 fits\n"
          ],
          "name": "stdout"
        },
        {
          "output_type": "stream",
          "text": [
            "[Parallel(n_jobs=-1)]: Using backend LokyBackend with 2 concurrent workers.\n",
            "[Parallel(n_jobs=-1)]: Done  54 tasks      | elapsed:  7.8min\n",
            "[Parallel(n_jobs=-1)]: Done  60 out of  60 | elapsed:  9.0min finished\n"
          ],
          "name": "stderr"
        },
        {
          "output_type": "stream",
          "text": [
            "#################\n",
            "\n",
            "Classifier accuracy is 0.6216981132075472\n",
            "********************On removing juv_other_count********************\n",
            "\n",
            "finding best value for C and gamma\n",
            "################\n",
            "Fitting 5 folds for each of 12 candidates, totalling 60 fits\n"
          ],
          "name": "stdout"
        },
        {
          "output_type": "stream",
          "text": [
            "[Parallel(n_jobs=-1)]: Using backend LokyBackend with 2 concurrent workers.\n",
            "[Parallel(n_jobs=-1)]: Done  54 tasks      | elapsed:  7.8min\n",
            "[Parallel(n_jobs=-1)]: Done  60 out of  60 | elapsed:  9.0min finished\n"
          ],
          "name": "stderr"
        },
        {
          "output_type": "stream",
          "text": [
            "#################\n",
            "\n",
            "Classifier accuracy is 0.6216981132075472\n",
            "********************On removing juv_misd_count********************\n",
            "\n",
            "finding best value for C and gamma\n",
            "################\n",
            "Fitting 5 folds for each of 12 candidates, totalling 60 fits\n"
          ],
          "name": "stdout"
        },
        {
          "output_type": "stream",
          "text": [
            "[Parallel(n_jobs=-1)]: Using backend LokyBackend with 2 concurrent workers.\n",
            "[Parallel(n_jobs=-1)]: Done  54 tasks      | elapsed:  7.8min\n",
            "[Parallel(n_jobs=-1)]: Done  60 out of  60 | elapsed:  9.0min finished\n"
          ],
          "name": "stderr"
        },
        {
          "output_type": "stream",
          "text": [
            "#################\n",
            "\n",
            "Classifier accuracy is 0.6216981132075472\n",
            "********************On removing age_cat********************\n",
            "\n",
            "finding best value for C and gamma\n",
            "################\n",
            "Fitting 5 folds for each of 12 candidates, totalling 60 fits\n"
          ],
          "name": "stdout"
        },
        {
          "output_type": "stream",
          "text": [
            "[Parallel(n_jobs=-1)]: Using backend LokyBackend with 2 concurrent workers.\n",
            "[Parallel(n_jobs=-1)]: Done  54 tasks      | elapsed:  7.8min\n",
            "[Parallel(n_jobs=-1)]: Done  60 out of  60 | elapsed:  9.0min finished\n"
          ],
          "name": "stderr"
        },
        {
          "output_type": "stream",
          "text": [
            "#################\n",
            "\n",
            "Classifier accuracy is 0.6216981132075472\n"
          ],
          "name": "stdout"
        }
      ]
    },
    {
      "cell_type": "markdown",
      "metadata": {
        "id": "0lAU_Wa8KcyA"
      },
      "source": [
        "## **Random Forest Classifier**"
      ]
    },
    {
      "cell_type": "code",
      "metadata": {
        "id": "NDLeQPq-KLJd",
        "colab": {
          "base_uri": "https://localhost:8080/"
        },
        "outputId": "ad0c365e-3d14-4064-d3d3-797223d1d9cc"
      },
      "source": [
        "#Similar procedure to the above cell is followed here\n",
        " \n",
        "rfc_res = []       \n",
        "drop_col_name = ['sex', 'juv_other_count', 'juv_misd_count', 'age_cat']\n",
        "df = inp_data\n",
        "X_train, X_test, y_train, y_test = data_split(get_dummies(df), out_data)\n",
        "\n",
        "print(\"******************Using Base Dataset*********************\")\n",
        "print()\n",
        "dataset_type.append('base_dataset')\n",
        " \n",
        "\n",
        "tuned_clf_rfc, rfc_acc = rfc_clf(X_train, X_test, y_train, y_test, rfc_parameters)\n",
        "rfc_res.append(rfc_acc)\n",
        "\n",
        "\n",
        "for i in drop_col_name:\n",
        "  df = drop_col(df, i)\n",
        "  X_train, X_test, y_train, y_test = data_split(get_dummies(df), out_data)\n",
        "\n",
        "  print(\"********************On removing\",i+\"********************\")\n",
        "  print()\n",
        "  tuned_clf_rfc, rfc_acc = rfc_clf(X_train, X_test, y_train, y_test, rfc_parameters)\n",
        "  rfc_res.append(rfc_acc)"
      ],
      "execution_count": null,
      "outputs": [
        {
          "output_type": "stream",
          "text": [
            "******************Using Base Dataset*********************\n",
            "\n",
            "Fitting 3 folds for each of 270 candidates, totalling 810 fits\n"
          ],
          "name": "stdout"
        },
        {
          "output_type": "stream",
          "text": [
            "[Parallel(n_jobs=-1)]: Using backend LokyBackend with 2 concurrent workers.\n",
            "[Parallel(n_jobs=-1)]: Done  54 tasks      | elapsed:   36.0s\n",
            "[Parallel(n_jobs=-1)]: Done 225 tasks      | elapsed:  2.6min\n",
            "[Parallel(n_jobs=-1)]: Done 512 tasks      | elapsed:  5.9min\n",
            "[Parallel(n_jobs=-1)]: Done 810 out of 810 | elapsed:  9.3min finished\n"
          ],
          "name": "stderr"
        },
        {
          "output_type": "stream",
          "text": [
            "####################\n",
            "\n",
            "Classifier accuracy is 0.6117924528301887\n",
            "********************On removing sex********************\n",
            "\n",
            "Fitting 3 folds for each of 270 candidates, totalling 810 fits\n"
          ],
          "name": "stdout"
        },
        {
          "output_type": "stream",
          "text": [
            "[Parallel(n_jobs=-1)]: Using backend LokyBackend with 2 concurrent workers.\n",
            "[Parallel(n_jobs=-1)]: Done  54 tasks      | elapsed:   35.3s\n",
            "[Parallel(n_jobs=-1)]: Done 225 tasks      | elapsed:  2.6min\n",
            "[Parallel(n_jobs=-1)]: Done 512 tasks      | elapsed:  5.9min\n",
            "[Parallel(n_jobs=-1)]: Done 810 out of 810 | elapsed:  9.3min finished\n"
          ],
          "name": "stderr"
        },
        {
          "output_type": "stream",
          "text": [
            "####################\n",
            "\n",
            "Classifier accuracy is 0.6127358490566037\n",
            "********************On removing juv_other_count********************\n",
            "\n",
            "Fitting 3 folds for each of 270 candidates, totalling 810 fits\n"
          ],
          "name": "stdout"
        },
        {
          "output_type": "stream",
          "text": [
            "[Parallel(n_jobs=-1)]: Using backend LokyBackend with 2 concurrent workers.\n",
            "[Parallel(n_jobs=-1)]: Done  54 tasks      | elapsed:   35.2s\n",
            "[Parallel(n_jobs=-1)]: Done 225 tasks      | elapsed:  2.6min\n",
            "[Parallel(n_jobs=-1)]: Done 512 tasks      | elapsed:  5.8min\n",
            "[Parallel(n_jobs=-1)]: Done 810 out of 810 | elapsed:  9.3min finished\n"
          ],
          "name": "stderr"
        },
        {
          "output_type": "stream",
          "text": [
            "####################\n",
            "\n",
            "Classifier accuracy is 0.6146226415094339\n",
            "********************On removing juv_misd_count********************\n",
            "\n",
            "Fitting 3 folds for each of 270 candidates, totalling 810 fits\n"
          ],
          "name": "stdout"
        },
        {
          "output_type": "stream",
          "text": [
            "[Parallel(n_jobs=-1)]: Using backend LokyBackend with 2 concurrent workers.\n",
            "[Parallel(n_jobs=-1)]: Done  54 tasks      | elapsed:   35.0s\n",
            "[Parallel(n_jobs=-1)]: Done 225 tasks      | elapsed:  2.5min\n",
            "[Parallel(n_jobs=-1)]: Done 512 tasks      | elapsed:  5.8min\n",
            "[Parallel(n_jobs=-1)]: Done 810 out of 810 | elapsed:  9.3min finished\n"
          ],
          "name": "stderr"
        },
        {
          "output_type": "stream",
          "text": [
            "####################\n",
            "\n",
            "Classifier accuracy is 0.6160377358490566\n",
            "********************On removing age_cat********************\n",
            "\n",
            "Fitting 3 folds for each of 270 candidates, totalling 810 fits\n"
          ],
          "name": "stdout"
        },
        {
          "output_type": "stream",
          "text": [
            "[Parallel(n_jobs=-1)]: Using backend LokyBackend with 2 concurrent workers.\n",
            "[Parallel(n_jobs=-1)]: Done  54 tasks      | elapsed:   35.2s\n",
            "[Parallel(n_jobs=-1)]: Done 225 tasks      | elapsed:  2.6min\n",
            "[Parallel(n_jobs=-1)]: Done 512 tasks      | elapsed:  5.8min\n",
            "[Parallel(n_jobs=-1)]: Done 810 out of 810 | elapsed:  9.3min finished\n"
          ],
          "name": "stderr"
        },
        {
          "output_type": "stream",
          "text": [
            "####################\n",
            "\n",
            "Classifier accuracy is 0.6117924528301887\n"
          ],
          "name": "stdout"
        }
      ]
    },
    {
      "cell_type": "markdown",
      "metadata": {
        "id": "HjK0SVUsNjiK"
      },
      "source": [
        "## **Multiple Layer Perceptron**"
      ]
    },
    {
      "cell_type": "code",
      "metadata": {
        "id": "SFTqCxxUKwpQ",
        "colab": {
          "base_uri": "https://localhost:8080/"
        },
        "outputId": "bc6a0ec8-7c21-4d9a-9706-c016dfb10f63"
      },
      "source": [
        "#Similar procedure to the above cell is followed here\n",
        "\n",
        "mlp_res = []          \n",
        "drop_col_name = ['sex', 'juv_other_count', 'juv_misd_count', 'age_cat']\n",
        "df = inp_data\n",
        "X_train, X_test, y_train, y_test = data_split(get_dummies(df), out_data)\n",
        "\n",
        "print(\"******************Using Base Dataset*********************\")\n",
        "print()\n",
        "dataset_type.append('base_dataset')\n",
        "\n",
        "tuned_clf_mlp, mlp_acc = mlp_clf(X_train, X_test, y_train, y_test, mlp_parameters)\n",
        "mlp_res.append(mlp_acc)\n",
        "\n",
        "for i in drop_col_name:\n",
        "  df = drop_col(df, i)\n",
        "  X_train, X_test, y_train, y_test = data_split(get_dummies(df), out_data)\n",
        "\n",
        "  print(\"********************On removing\",i+\"********************\")\n",
        "  print()\n",
        "\n",
        "  tuned_clf_mlp, mlp_acc = mlp_clf(X_train, X_test, y_train, y_test, mlp_parameters)\n",
        "  mlp_res.append(mlp_acc)"
      ],
      "execution_count": null,
      "outputs": [
        {
          "output_type": "stream",
          "text": [
            "******************Using Base Dataset*********************\n",
            "\n",
            "Fitting 3 folds for each of 60 candidates, totalling 180 fits\n"
          ],
          "name": "stdout"
        },
        {
          "output_type": "stream",
          "text": [
            "[Parallel(n_jobs=-1)]: Using backend LokyBackend with 2 concurrent workers.\n",
            "[Parallel(n_jobs=-1)]: Done  54 tasks      | elapsed:   30.1s\n",
            "[Parallel(n_jobs=-1)]: Done 180 out of 180 | elapsed:  1.8min finished\n"
          ],
          "name": "stderr"
        },
        {
          "output_type": "stream",
          "text": [
            "#####################\n",
            "\n",
            "Classifier accuracy is 0.6221698113207547\n",
            "********************On removing sex********************\n",
            "\n",
            "Fitting 3 folds for each of 60 candidates, totalling 180 fits\n"
          ],
          "name": "stdout"
        },
        {
          "output_type": "stream",
          "text": [
            "[Parallel(n_jobs=-1)]: Using backend LokyBackend with 2 concurrent workers.\n",
            "[Parallel(n_jobs=-1)]: Done  54 tasks      | elapsed:   29.7s\n",
            "[Parallel(n_jobs=-1)]: Done 180 out of 180 | elapsed:  1.8min finished\n"
          ],
          "name": "stderr"
        },
        {
          "output_type": "stream",
          "text": [
            "#####################\n",
            "\n",
            "Classifier accuracy is 0.6202830188679245\n",
            "********************On removing juv_other_count********************\n",
            "\n",
            "Fitting 3 folds for each of 60 candidates, totalling 180 fits\n"
          ],
          "name": "stdout"
        },
        {
          "output_type": "stream",
          "text": [
            "[Parallel(n_jobs=-1)]: Using backend LokyBackend with 2 concurrent workers.\n",
            "[Parallel(n_jobs=-1)]: Done  54 tasks      | elapsed:   29.7s\n",
            "[Parallel(n_jobs=-1)]: Done 180 out of 180 | elapsed:  1.9min finished\n"
          ],
          "name": "stderr"
        },
        {
          "output_type": "stream",
          "text": [
            "#####################\n",
            "\n",
            "Classifier accuracy is 0.6221698113207547\n",
            "********************On removing juv_misd_count********************\n",
            "\n",
            "Fitting 3 folds for each of 60 candidates, totalling 180 fits\n"
          ],
          "name": "stdout"
        },
        {
          "output_type": "stream",
          "text": [
            "[Parallel(n_jobs=-1)]: Using backend LokyBackend with 2 concurrent workers.\n",
            "[Parallel(n_jobs=-1)]: Done  54 tasks      | elapsed:   28.5s\n",
            "[Parallel(n_jobs=-1)]: Done 180 out of 180 | elapsed:  1.8min finished\n"
          ],
          "name": "stderr"
        },
        {
          "output_type": "stream",
          "text": [
            "#####################\n",
            "\n",
            "Classifier accuracy is 0.6165094339622641\n",
            "********************On removing age_cat********************\n",
            "\n",
            "Fitting 3 folds for each of 60 candidates, totalling 180 fits\n"
          ],
          "name": "stdout"
        },
        {
          "output_type": "stream",
          "text": [
            "[Parallel(n_jobs=-1)]: Using backend LokyBackend with 2 concurrent workers.\n",
            "[Parallel(n_jobs=-1)]: Done  54 tasks      | elapsed:   29.2s\n",
            "[Parallel(n_jobs=-1)]: Done 180 out of 180 | elapsed:  1.8min finished\n"
          ],
          "name": "stderr"
        },
        {
          "output_type": "stream",
          "text": [
            "#####################\n",
            "\n",
            "Classifier accuracy is 0.6221698113207547\n"
          ],
          "name": "stdout"
        }
      ]
    },
    {
      "cell_type": "code",
      "metadata": {
        "id": "z8X22Jt0uH27",
        "colab": {
          "base_uri": "https://localhost:8080/",
          "height": 320
        },
        "outputId": "300375bb-051d-4e1d-a125-5f836a4297f8"
      },
      "source": [
        "dataset_type = ['base dataset', 'sex removed', 'juv_other_count removed', 'juv_misd_count removed', 'age_cat removed']\n",
        "plt.style.use(['ggplot'])\n",
        "plt.tight_layout()\n",
        "plt.plot(dataset_type, mlp_res, 'o-', label = 'mlp', color = 'g')\n",
        "plt.plot(dataset_type, rfc_res, 'o-', label = 'rfc', color = 'r')\n",
        "plt.plot(dataset_type, svm_res, 'o-', label = 'svm', color = 'b')\n",
        "plt.legend(loc=\"best\")\n",
        "plt.xticks(rotation=17)"
      ],
      "execution_count": null,
      "outputs": [
        {
          "output_type": "execute_result",
          "data": {
            "text/plain": [
              "([0, 1, 2, 3, 4], <a list of 5 Text major ticklabel objects>)"
            ]
          },
          "metadata": {
            "tags": []
          },
          "execution_count": 20
        },
        {
          "output_type": "display_data",
          "data": {
            "image/png": "[encoded data removed]",
            "text/plain": [
              "<Figure size 432x288 with 1 Axes>"
            ]
          },
          "metadata": {
            "tags": []
          }
        }
      ]
    },
    {
      "cell_type": "markdown",
      "metadata": {
        "id": "tBgzYu4pluQm"
      },
      "source": [
        "Using accuracy to judge the performance of models will be reasonable as the classes in the dataset are balanced \n",
        "\n",
        "The above graph shows that MLP predicts race with the highest accuracy using only the prior counts (i.e when all the other features are removed iteratively).\n",
        "\n",
        "Whereas Random forest gives the highest accuracy when the dataset contained both priors count and age_cat"
      ]
    },
    {
      "cell_type": "code",
      "metadata": {
        "id": "o1ykRnp6Ww_S"
      },
      "source": [
        "df = data\n",
        "#Dataset is divided according to the race into two parts\n",
        "df_afr = df[df.race=='African-American']\n",
        "df_other = df[df.race!='African-American']"
      ],
      "execution_count": null,
      "outputs": []
    },
    {
      "cell_type": "code",
      "metadata": {
        "id": "NUfL8pGRYEFg"
      },
      "source": [
        "#All the races other than African-American are termed as \"Other\"\n",
        "df_other['race'] = 'Other'"
      ],
      "execution_count": null,
      "outputs": []
    },
    {
      "cell_type": "code",
      "metadata": {
        "id": "P2Yo8tlmK5cX",
        "colab": {
          "base_uri": "https://localhost:8080/",
          "height": 451
        },
        "outputId": "1ca65a7f-63ba-4452-875e-5b9ade64a19c"
      },
      "source": [
        "import matplotlib.pyplot as plt\n",
        "fig, (axs1,axs2) = plt.subplots(1,2, figsize = (20,6))\n",
        "fig.suptitle('Prior counts comparison (African-American vs Others)')\n",
        "\n",
        "#A list for prior counts and number of people is formed.\n",
        "count = df_afr['priors_count'].value_counts()\n",
        "prior_count_afr = count.index.tolist()\n",
        "population_afr = count.values.tolist()\n",
        "\n",
        "count = df_other['priors_count'].value_counts()\n",
        "prior_count_cau = count.index.tolist()\n",
        "population_cau = count.values.tolist()\n",
        "\n",
        "#barplots for both the dataset is created\n",
        "axs1.set_xlabel('Priors count')\n",
        "axs1.set_ylabel('Number of People')\n",
        "axs1.bar(prior_count_afr, population_afr, width=0.3)\n",
        "axs2.set_xlabel('Priors count')\n",
        "axs2.set_ylabel('Number of People')\n",
        "axs2.bar(prior_count_cau, population_cau, width=0.3)"
      ],
      "execution_count": null,
      "outputs": [
        {
          "output_type": "execute_result",
          "data": {
            "text/plain": [
              "<BarContainer object of 34 artists>"
            ]
          },
          "metadata": {
            "tags": []
          },
          "execution_count": 111
        },
        {
          "output_type": "display_data",
          "data": {
            "image/png": "[encoded data removed]",
            "text/plain": [
              "<Figure size 1440x432 with 2 Axes>"
            ]
          },
          "metadata": {
            "tags": []
          }
        }
      ]
    },
    {
      "cell_type": "markdown",
      "metadata": {
        "id": "A-Wa9mFlcPT1"
      },
      "source": [
        "From the above graph it can be inferred that the overall priors count of African-American community is more than the rest of the races because \n",
        "\n",
        "1. In the case of other races(i.e the second graph) the number of people decreases rapidly as the priors count goes beyond 5 \n",
        "\n",
        "2. Whereas in case of Afican-American race the number of people decreases less rapidly as compared to the other races \n",
        "\n",
        "3. Also the number of priors count go as far as 43 whereas in case of other races overall priors count does not go beyond 35 \n"
      ]
    },
    {
      "cell_type": "markdown",
      "metadata": {
        "id": "z2SH2EYVf6es"
      },
      "source": [
        "# Conclusion"
      ]
    },
    {
      "cell_type": "markdown",
      "metadata": {
        "id": "yU-Og2zZRSkK"
      },
      "source": [
        "From the above results it is depicted that the most effective feature to predict race is priors_count using which the models can alone predict race with a hugh accuracy. Due to which we can say that their is a racial feature incorporated into the dataset unknowingly.\n",
        "\n",
        "\n",
        "\n",
        "---\n",
        "\n",
        "\n",
        "\n",
        "The following results might seem to be reasonable under the following assumption as follows:\n",
        "\n",
        "\n",
        "Our dataset mostly contains offenses like Battery, arrest case no charge, Possession of drugs, etc and very few cases of very high charge crimes therefore, for such not so severe charges COMPAS algorithm doesnot provide decile scores based only on the current chrarge but rather consider their history too in which priors count play a major role which further results in providing higher scores to African-Americans(they have higher overall priors count) even though their chrges are not as high as Native Americans or any other race.\n"
      ]
    }
  ]
}