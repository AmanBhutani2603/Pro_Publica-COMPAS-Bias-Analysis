{
  "nbformat": 4,
  "nbformat_minor": 0,
  "metadata": {
    "colab": {
      "name": "Pre_processing.ipynb",
      "provenance": [],
      "collapsed_sections": []
    },
    "kernelspec": {
      "name": "python3",
      "display_name": "Python 3"
    }
  },
  "cells": [
    {
      "cell_type": "markdown",
      "metadata": {
        "id": "IG7cKuoWd-2r"
      },
      "source": [
        "The following notebook implements the pre-processing for the Propublica COMPAS  dataset. \n",
        "\n",
        "---\n",
        "Some of the main techniques used here are listed below.\n",
        "\n",
        "\n",
        "\n",
        "*   Removing duplicate rows and unavailable entries from the dataset.\n",
        "*   Visualizing the features to understand the trends better.\n",
        "*   Generalizing the charge descriptions(reduce categories) in order to prevent creation of large number of dummy variables on binarizing the dataset.\n",
        "*   In order to better generalize the type of charges a new feature **charge category** is added\n",
        "\n",
        "\n",
        "\n",
        "\n",
        "\n"
      ]
    },
    {
      "cell_type": "code",
      "metadata": {
        "id": "hULI4bA4ZinX",
        "colab": {
          "base_uri": "https://localhost:8080/"
        },
        "outputId": "ec9af267-765f-4841-a306-c7ad7a9f1e98"
      },
      "source": [
        "from google.colab import drive\n",
        "drive.mount('/gdrive', force_remount = True)"
      ],
      "execution_count": null,
      "outputs": [
        {
          "output_type": "stream",
          "text": [
            "Mounted at /gdrive\n"
          ],
          "name": "stdout"
        }
      ]
    },
    {
      "cell_type": "code",
      "metadata": {
        "id": "WsxL9vHZZry9",
        "colab": {
          "base_uri": "https://localhost:8080/",
          "height": 333
        },
        "outputId": "1ed40af2-99e3-4f9a-8da3-aa1e1b614a63"
      },
      "source": [
        "import pandas as pd\n",
        "df = pd.read_csv(r'/gdrive/My Drive/cox-violent-parsed_filt.csv')\n",
        "\n",
        "df.head()"
      ],
      "execution_count": null,
      "outputs": [
        {
          "output_type": "execute_result",
          "data": {
            "text/html": [
              "<div>\n",
              "<style scoped>\n",
              "    .dataframe tbody tr th:only-of-type {\n",
              "        vertical-align: middle;\n",
              "    }\n",
              "\n",
              "    .dataframe tbody tr th {\n",
              "        vertical-align: top;\n",
              "    }\n",
              "\n",
              "    .dataframe thead th {\n",
              "        text-align: right;\n",
              "    }\n",
              "</style>\n",
              "<table border=\"1\" class=\"dataframe\">\n",
              "  <thead>\n",
              "    <tr style=\"text-align: right;\">\n",
              "      <th></th>\n",
              "      <th>id</th>\n",
              "      <th>name</th>\n",
              "      <th>first</th>\n",
              "      <th>last</th>\n",
              "      <th>sex</th>\n",
              "      <th>dob</th>\n",
              "      <th>age</th>\n",
              "      <th>age_cat</th>\n",
              "      <th>race</th>\n",
              "      <th>juv_fel_count</th>\n",
              "      <th>decile_score</th>\n",
              "      <th>juv_misd_count</th>\n",
              "      <th>juv_other_count</th>\n",
              "      <th>priors_count</th>\n",
              "      <th>days_b_screening_arrest</th>\n",
              "      <th>c_jail_in</th>\n",
              "      <th>c_jail_out</th>\n",
              "      <th>c_days_from_compas</th>\n",
              "      <th>c_charge_degree</th>\n",
              "      <th>c_charge_desc</th>\n",
              "      <th>is_recid</th>\n",
              "      <th>r_charge_degree</th>\n",
              "      <th>r_days_from_arrest</th>\n",
              "      <th>r_offense_date</th>\n",
              "      <th>r_charge_desc</th>\n",
              "      <th>r_jail_in</th>\n",
              "      <th>violent_recid</th>\n",
              "      <th>is_violent_recid</th>\n",
              "      <th>vr_charge_degree</th>\n",
              "      <th>vr_offense_date</th>\n",
              "      <th>vr_charge_desc</th>\n",
              "      <th>type_of_assessment</th>\n",
              "      <th>decile_score.1</th>\n",
              "      <th>score_text</th>\n",
              "      <th>screening_date</th>\n",
              "      <th>v_type_of_assessment</th>\n",
              "      <th>v_decile_score</th>\n",
              "      <th>v_score_text</th>\n",
              "      <th>priors_count.1</th>\n",
              "      <th>event</th>\n",
              "    </tr>\n",
              "  </thead>\n",
              "  <tbody>\n",
              "    <tr>\n",
              "      <th>0</th>\n",
              "      <td>1.0</td>\n",
              "      <td>miguel hernandez</td>\n",
              "      <td>miguel</td>\n",
              "      <td>hernandez</td>\n",
              "      <td>Male</td>\n",
              "      <td>18/04/1947</td>\n",
              "      <td>69</td>\n",
              "      <td>Greater than 45</td>\n",
              "      <td>Other</td>\n",
              "      <td>0</td>\n",
              "      <td>1</td>\n",
              "      <td>0</td>\n",
              "      <td>0</td>\n",
              "      <td>0</td>\n",
              "      <td>-1.0</td>\n",
              "      <td>13/08/2013 6:03</td>\n",
              "      <td>14/08/2013 5:41</td>\n",
              "      <td>1.0</td>\n",
              "      <td>(F3)</td>\n",
              "      <td>Aggravated Assault w/Firearm</td>\n",
              "      <td>0</td>\n",
              "      <td>NaN</td>\n",
              "      <td>NaN</td>\n",
              "      <td>NaN</td>\n",
              "      <td>NaN</td>\n",
              "      <td>NaN</td>\n",
              "      <td>NaN</td>\n",
              "      <td>0</td>\n",
              "      <td>NaN</td>\n",
              "      <td>NaN</td>\n",
              "      <td>NaN</td>\n",
              "      <td>Risk of Recidivism</td>\n",
              "      <td>1</td>\n",
              "      <td>Low</td>\n",
              "      <td>14/08/2013</td>\n",
              "      <td>Risk of Violence</td>\n",
              "      <td>1</td>\n",
              "      <td>Low</td>\n",
              "      <td>0</td>\n",
              "      <td>0</td>\n",
              "    </tr>\n",
              "    <tr>\n",
              "      <th>1</th>\n",
              "      <td>2.0</td>\n",
              "      <td>miguel hernandez</td>\n",
              "      <td>miguel</td>\n",
              "      <td>hernandez</td>\n",
              "      <td>Male</td>\n",
              "      <td>18/04/1947</td>\n",
              "      <td>69</td>\n",
              "      <td>Greater than 45</td>\n",
              "      <td>Other</td>\n",
              "      <td>0</td>\n",
              "      <td>1</td>\n",
              "      <td>0</td>\n",
              "      <td>0</td>\n",
              "      <td>0</td>\n",
              "      <td>-1.0</td>\n",
              "      <td>13/08/2013 6:03</td>\n",
              "      <td>14/08/2013 5:41</td>\n",
              "      <td>1.0</td>\n",
              "      <td>(F3)</td>\n",
              "      <td>Aggravated Assault w/Firearm</td>\n",
              "      <td>0</td>\n",
              "      <td>NaN</td>\n",
              "      <td>NaN</td>\n",
              "      <td>NaN</td>\n",
              "      <td>NaN</td>\n",
              "      <td>NaN</td>\n",
              "      <td>NaN</td>\n",
              "      <td>0</td>\n",
              "      <td>NaN</td>\n",
              "      <td>NaN</td>\n",
              "      <td>NaN</td>\n",
              "      <td>Risk of Recidivism</td>\n",
              "      <td>1</td>\n",
              "      <td>Low</td>\n",
              "      <td>14/08/2013</td>\n",
              "      <td>Risk of Violence</td>\n",
              "      <td>1</td>\n",
              "      <td>Low</td>\n",
              "      <td>0</td>\n",
              "      <td>0</td>\n",
              "    </tr>\n",
              "    <tr>\n",
              "      <th>2</th>\n",
              "      <td>3.0</td>\n",
              "      <td>michael ryan</td>\n",
              "      <td>michael</td>\n",
              "      <td>ryan</td>\n",
              "      <td>Male</td>\n",
              "      <td>06/02/1985</td>\n",
              "      <td>31</td>\n",
              "      <td>25 - 45</td>\n",
              "      <td>Caucasian</td>\n",
              "      <td>0</td>\n",
              "      <td>5</td>\n",
              "      <td>0</td>\n",
              "      <td>0</td>\n",
              "      <td>0</td>\n",
              "      <td>NaN</td>\n",
              "      <td>NaN</td>\n",
              "      <td>NaN</td>\n",
              "      <td>NaN</td>\n",
              "      <td>NaN</td>\n",
              "      <td>NaN</td>\n",
              "      <td>-1</td>\n",
              "      <td>NaN</td>\n",
              "      <td>NaN</td>\n",
              "      <td>NaN</td>\n",
              "      <td>NaN</td>\n",
              "      <td>NaN</td>\n",
              "      <td>NaN</td>\n",
              "      <td>0</td>\n",
              "      <td>NaN</td>\n",
              "      <td>NaN</td>\n",
              "      <td>NaN</td>\n",
              "      <td>Risk of Recidivism</td>\n",
              "      <td>5</td>\n",
              "      <td>Medium</td>\n",
              "      <td>31/12/2014</td>\n",
              "      <td>Risk of Violence</td>\n",
              "      <td>2</td>\n",
              "      <td>Low</td>\n",
              "      <td>0</td>\n",
              "      <td>0</td>\n",
              "    </tr>\n",
              "    <tr>\n",
              "      <th>3</th>\n",
              "      <td>4.0</td>\n",
              "      <td>kevon dixon</td>\n",
              "      <td>kevon</td>\n",
              "      <td>dixon</td>\n",
              "      <td>Male</td>\n",
              "      <td>22/01/1982</td>\n",
              "      <td>34</td>\n",
              "      <td>25 - 45</td>\n",
              "      <td>African-American</td>\n",
              "      <td>0</td>\n",
              "      <td>3</td>\n",
              "      <td>0</td>\n",
              "      <td>0</td>\n",
              "      <td>0</td>\n",
              "      <td>-1.0</td>\n",
              "      <td>26/01/2013 3:45</td>\n",
              "      <td>05/02/2013 5:36</td>\n",
              "      <td>1.0</td>\n",
              "      <td>(F3)</td>\n",
              "      <td>Felony Battery w/Prior Convict</td>\n",
              "      <td>1</td>\n",
              "      <td>(F3)</td>\n",
              "      <td>NaN</td>\n",
              "      <td>05/07/2013</td>\n",
              "      <td>Felony Battery (Dom Strang)</td>\n",
              "      <td>NaN</td>\n",
              "      <td>NaN</td>\n",
              "      <td>1</td>\n",
              "      <td>(F3)</td>\n",
              "      <td>05/07/2013</td>\n",
              "      <td>Felony Battery (Dom Strang)</td>\n",
              "      <td>Risk of Recidivism</td>\n",
              "      <td>3</td>\n",
              "      <td>Low</td>\n",
              "      <td>27/01/2013</td>\n",
              "      <td>Risk of Violence</td>\n",
              "      <td>1</td>\n",
              "      <td>Low</td>\n",
              "      <td>0</td>\n",
              "      <td>1</td>\n",
              "    </tr>\n",
              "    <tr>\n",
              "      <th>4</th>\n",
              "      <td>5.0</td>\n",
              "      <td>ed philo</td>\n",
              "      <td>ed</td>\n",
              "      <td>philo</td>\n",
              "      <td>Male</td>\n",
              "      <td>14/05/1991</td>\n",
              "      <td>24</td>\n",
              "      <td>Less than 25</td>\n",
              "      <td>African-American</td>\n",
              "      <td>0</td>\n",
              "      <td>4</td>\n",
              "      <td>0</td>\n",
              "      <td>1</td>\n",
              "      <td>4</td>\n",
              "      <td>-1.0</td>\n",
              "      <td>13/04/2013 4:58</td>\n",
              "      <td>14/04/2013 7:02</td>\n",
              "      <td>1.0</td>\n",
              "      <td>(F3)</td>\n",
              "      <td>Possession of Cocaine</td>\n",
              "      <td>1</td>\n",
              "      <td>(M1)</td>\n",
              "      <td>0.0</td>\n",
              "      <td>16/06/2013</td>\n",
              "      <td>Driving Under The Influence</td>\n",
              "      <td>16/06/2013</td>\n",
              "      <td>NaN</td>\n",
              "      <td>0</td>\n",
              "      <td>NaN</td>\n",
              "      <td>NaN</td>\n",
              "      <td>NaN</td>\n",
              "      <td>Risk of Recidivism</td>\n",
              "      <td>4</td>\n",
              "      <td>Low</td>\n",
              "      <td>14/04/2013</td>\n",
              "      <td>Risk of Violence</td>\n",
              "      <td>3</td>\n",
              "      <td>Low</td>\n",
              "      <td>4</td>\n",
              "      <td>0</td>\n",
              "    </tr>\n",
              "  </tbody>\n",
              "</table>\n",
              "</div>"
            ],
            "text/plain": [
              "    id              name    first  ... v_score_text priors_count.1 event\n",
              "0  1.0  miguel hernandez   miguel  ...          Low              0     0\n",
              "1  2.0  miguel hernandez   miguel  ...          Low              0     0\n",
              "2  3.0      michael ryan  michael  ...          Low              0     0\n",
              "3  4.0       kevon dixon    kevon  ...          Low              0     1\n",
              "4  5.0          ed philo       ed  ...          Low              4     0\n",
              "\n",
              "[5 rows x 40 columns]"
            ]
          },
          "metadata": {
            "tags": []
          },
          "execution_count": 33
        }
      ]
    },
    {
      "cell_type": "code",
      "metadata": {
        "id": "CJA-FkQgZt_C",
        "colab": {
          "base_uri": "https://localhost:8080/"
        },
        "outputId": "c1520b2d-2c40-4b0e-8900-b0a3bf4e5f2c"
      },
      "source": [
        "lis = ['age_cat', 'sex', 'race', 'decile_score', 'juv_fel_count', 'juv_misd_count', 'juv_other_count', 'priors_count', 'c_charge_degree', 'c_charge_desc', 'is_recid']\n",
        "\n",
        "#primary key 'id' is dropped to identify duplicate rows in df\n",
        "\n",
        "df.drop('id', axis=1, inplace=True) \n",
        "df = df.drop_duplicates()\n",
        "\n",
        "\n",
        "#feature in lis parameter are copied into df\n",
        "  \n",
        "df = df[lis].copy()\n",
        "df = df.dropna()\n",
        "  \n",
        "#data rows with is_recid = -1 are dropped from df \n",
        "  \n",
        "df = df[df.is_recid != -1]\n",
        "\n",
        "#Dataframe is stored in raw_data which is used for pre_processing and visualization \n",
        "raw_data = df\n",
        "raw_data.shape"
      ],
      "execution_count": null,
      "outputs": [
        {
          "output_type": "execute_result",
          "data": {
            "text/plain": [
              "(10598, 11)"
            ]
          },
          "metadata": {
            "tags": []
          },
          "execution_count": 34
        }
      ]
    },
    {
      "cell_type": "markdown",
      "metadata": {
        "id": "vCsUvxbfAefn"
      },
      "source": [
        "the duplicate rows from the data frame **df** are dropped and \n",
        "selects the particular rows provided by the user from the dataframe in **lis**"
      ]
    },
    {
      "cell_type": "markdown",
      "metadata": {
        "id": "0tJ4nGlFDKo9"
      },
      "source": [
        "# EXPLORATORY DATA-ANALYSIS\n",
        "\n",
        "\n",
        "---\n",
        "\n"
      ]
    },
    {
      "cell_type": "code",
      "metadata": {
        "id": "2IxgZiQRDhI2",
        "colab": {
          "base_uri": "https://localhost:8080/"
        },
        "outputId": "fa747bcf-2e64-4bcd-f4ed-316d533a1f64"
      },
      "source": [
        "raw_data.race.value_counts()"
      ],
      "execution_count": null,
      "outputs": [
        {
          "output_type": "execute_result",
          "data": {
            "text/plain": [
              "African-American    5336\n",
              "Caucasian           3640\n",
              "Hispanic             954\n",
              "Other                582\n",
              "Asian                 53\n",
              "Native American       33\n",
              "Name: race, dtype: int64"
            ]
          },
          "metadata": {
            "tags": []
          },
          "execution_count": 35
        }
      ]
    },
    {
      "cell_type": "code",
      "metadata": {
        "id": "UV0CFGgGD0-Y",
        "colab": {
          "base_uri": "https://localhost:8080/",
          "height": 476
        },
        "outputId": "ad6a3729-8b2d-474c-a39c-799325a22959"
      },
      "source": [
        "import matplotlib.pyplot as plt\n",
        "#dict 'race' is sreated for distribution of race feature\n",
        "race = raw_data['race'].value_counts().to_dict()\n",
        "#label: type of race\n",
        "label = []\n",
        "#count: number of people of that race\n",
        "count = []\n",
        "\n",
        "for i in race.items():\n",
        "  #values are stored in count, label using race dict \n",
        "  label.append(i[0])\n",
        "  count.append(i[1])\n",
        "\n",
        "plt.style.use(['ggplot'])\n",
        "plt.figure(figsize=(8,8))\n",
        "plt.pie(count, labels = label, autopct='%1.2f', startangle=90)\n",
        "plt.axis('equal')\n",
        "plt.show()"
      ],
      "execution_count": null,
      "outputs": [
        {
          "output_type": "display_data",
          "data": {
            "image/png": "[encoded data removed]",
            "text/plain": [
              "<Figure size 576x576 with 1 Axes>"
            ]
          },
          "metadata": {
            "tags": []
          }
        }
      ]
    },
    {
      "cell_type": "markdown",
      "metadata": {
        "id": "znB3yoCBD-nH"
      },
      "source": [
        "The dataset has an imbalanced class distribution with almost 50% of defendants as African-Americans and only 0.3% of Native Americans"
      ]
    },
    {
      "cell_type": "code",
      "metadata": {
        "id": "6cH45ZnbCNg-",
        "colab": {
          "base_uri": "https://localhost:8080/",
          "height": 636
        },
        "outputId": "f89eaa9d-2324-4d79-ce56-2e406750cdca"
      },
      "source": [
        "'''Below code is used to compare the features juv_fel_count, juv_misd_count, priors_count\n",
        "by plotting histograms for each feature against \"Number of People\"'''\n",
        "\n",
        "plt.style.use(['ggplot'])\n",
        "fig, (axs1,axs2,axs3) = plt.subplots(1,3, figsize = (20,6))\n",
        "fig.suptitle('Frequency comparison of juv_fel_count, juv_misd_count, prior_count')\n",
        "#fel, misd, pri store respective number of counts from each data example \n",
        "fel = []\n",
        "misd = []\n",
        "pri = []\n",
        "for i,j,k in zip(raw_data['juv_fel_count'], raw_data['juv_misd_count'], raw_data['priors_count']):\n",
        "  fel.append(i)\n",
        "  misd.append(j)\n",
        "  pri.append(k)\n",
        "arr1 = range(max(fel)+1)\n",
        "arr2 = range(max(misd)+1)\n",
        "arr3 = range(max(pri)+1)\n",
        "\n",
        "axs1.set_xlabel('juv_fel_count')\n",
        "axs1.set_ylabel('Number of people')\n",
        "axs1.hist(fel, arr1)\n",
        "axs2.set_xlabel('juv_misd_count')\n",
        "axs2.set_ylabel('Number of people')\n",
        "axs2.hist(misd, arr2)\n",
        "axs3.set_xlabel('priors_count')\n",
        "axs3.set_ylabel('Number of people')\n",
        "axs3.hist(pri, arr3)"
      ],
      "execution_count": null,
      "outputs": [
        {
          "output_type": "execute_result",
          "data": {
            "text/plain": [
              "(array([3.253e+03, 2.088e+03, 1.233e+03, 8.260e+02, 5.780e+02, 4.610e+02,\n",
              "        3.450e+02, 3.100e+02, 2.540e+02, 2.130e+02, 1.570e+02, 1.360e+02,\n",
              "        1.050e+02, 1.100e+02, 8.200e+01, 6.700e+01, 5.900e+01, 5.200e+01,\n",
              "        4.300e+01, 4.300e+01, 2.800e+01, 2.400e+01, 2.300e+01, 2.400e+01,\n",
              "        1.700e+01, 1.300e+01, 1.100e+01, 1.000e+01, 8.000e+00, 7.000e+00,\n",
              "        3.000e+00, 2.000e+00, 0.000e+00, 4.000e+00, 0.000e+00, 2.000e+00,\n",
              "        1.000e+00, 1.000e+00, 3.000e+00, 1.000e+00, 0.000e+00, 0.000e+00,\n",
              "        1.000e+00]),\n",
              " array([ 0,  1,  2,  3,  4,  5,  6,  7,  8,  9, 10, 11, 12, 13, 14, 15, 16,\n",
              "        17, 18, 19, 20, 21, 22, 23, 24, 25, 26, 27, 28, 29, 30, 31, 32, 33,\n",
              "        34, 35, 36, 37, 38, 39, 40, 41, 42, 43]),\n",
              " <a list of 43 Patch objects>)"
            ]
          },
          "metadata": {
            "tags": []
          },
          "execution_count": 37
        },
        {
          "output_type": "display_data",
          "data": {
            "image/png": "[encoded data removed]",
            "text/plain": [
              "<Figure size 1440x432 with 3 Axes>"
            ]
          },
          "metadata": {
            "tags": []
          }
        }
      ]
    },
    {
      "cell_type": "markdown",
      "metadata": {
        "id": "ku0Es95rHj-M"
      },
      "source": [
        "Above graph depicts that majority of the defendants have a juv_fel_count and juv_misd_count zero and few hundereds have a count of two or more whereas prior_counts has a wider distribution over the population  "
      ]
    },
    {
      "cell_type": "code",
      "metadata": {
        "id": "a2Kos4PvKb3B",
        "colab": {
          "base_uri": "https://localhost:8080/"
        },
        "outputId": "1bea75ad-7db0-4e43-ca01-d2849eb32d12"
      },
      "source": [
        "raw_data.age_cat.value_counts()"
      ],
      "execution_count": null,
      "outputs": [
        {
          "output_type": "execute_result",
          "data": {
            "text/plain": [
              "25 - 45            6046\n",
              "Greater than 45    2328\n",
              "Less than 25       2224\n",
              "Name: age_cat, dtype: int64"
            ]
          },
          "metadata": {
            "tags": []
          },
          "execution_count": 38
        }
      ]
    },
    {
      "cell_type": "code",
      "metadata": {
        "id": "qS9odRpXMgYu",
        "colab": {
          "base_uri": "https://localhost:8080/",
          "height": 299
        },
        "outputId": "ccf6b4ed-c114-4b3b-d3e8-8c01d4dc6934"
      },
      "source": [
        "import seaborn as sns\n",
        "sns.histplot(x='decile_score', y=\"age_cat\", data = raw_data)"
      ],
      "execution_count": null,
      "outputs": [
        {
          "output_type": "execute_result",
          "data": {
            "text/plain": [
              "<matplotlib.axes._subplots.AxesSubplot at 0x7f8a4910f9b0>"
            ]
          },
          "metadata": {
            "tags": []
          },
          "execution_count": 39
        },
        {
          "output_type": "display_data",
          "data": {
            "image/png": "[encoded data removed]",
            "text/plain": [
              "<Figure size 432x288 with 1 Axes>"
            ]
          },
          "metadata": {
            "tags": []
          }
        }
      ]
    },
    {
      "cell_type": "markdown",
      "metadata": {
        "id": "kmdcf4_4NZl7"
      },
      "source": [
        "Majority of people in the age_cat **Greater than 45** are having a lower score as compared to age_cat **25-45** who have the highest number of defendants in each category of decile score "
      ]
    },
    {
      "cell_type": "code",
      "metadata": {
        "id": "BhW-wP97Ko00",
        "colab": {
          "base_uri": "https://localhost:8080/"
        },
        "outputId": "e64a204a-8886-401a-86fa-712cfb5cadf6"
      },
      "source": [
        "raw_data.is_recid.value_counts()"
      ],
      "execution_count": null,
      "outputs": [
        {
          "output_type": "execute_result",
          "data": {
            "text/plain": [
              "0    6848\n",
              "1    3750\n",
              "Name: is_recid, dtype: int64"
            ]
          },
          "metadata": {
            "tags": []
          },
          "execution_count": 40
        }
      ]
    },
    {
      "cell_type": "markdown",
      "metadata": {
        "id": "rnpN-BJzK5CY"
      },
      "source": [
        "Number of people who did not recidivate are almost double than the recidivists"
      ]
    },
    {
      "cell_type": "code",
      "metadata": {
        "id": "mcFG_Jj0PaVz",
        "colab": {
          "base_uri": "https://localhost:8080/",
          "height": 468
        },
        "outputId": "90f90ea6-7be0-4b00-facc-c2eaf0ea6558"
      },
      "source": [
        "'''Below code is used to compare the decile score for African-Americans and Native Americans \n",
        "   against number of people who did not recidivated using histogram plots'''\n",
        "plt.style.use(['ggplot'])\n",
        "\n",
        "fig, (axs1,axs2) = plt.subplots(1,2, figsize = (20,6))\n",
        "fig.suptitle('Comparison of decile score of African-American vs Native American (non-recidivists)')\n",
        "decile_af = []\n",
        "decile_am = []\n",
        "\n",
        "for i,j,k in zip(raw_data['race'], raw_data['is_recid'], raw_data['decile_score']):\n",
        "  if i == 'African-American' and j == 0:\n",
        "    decile_af.append(k)\n",
        "  elif i == 'Native American' and j == 0:\n",
        "    decile_am.append(k)\n",
        "\n",
        "plt.figure(figsize=(8,4))\n",
        "arr_af = range(max(decile_af))\n",
        "arr_am = range(max(decile_am))\n",
        "axs1.hist(decile_af, arr_af)\n",
        "\n",
        "axs1.set_xlabel('Decile score')\n",
        "axs1.set_ylabel('Number of people (Non-Recidivists)')\n",
        "axs2.hist(decile_am, arr_am)\n",
        "axs2.set_xlabel('Decile score')\n",
        "axs2.set_ylabel('Number of people (Non-Recidivists)')\n",
        "axs2.set_ylim(bottom = 0, top = 6)"
      ],
      "execution_count": null,
      "outputs": [
        {
          "output_type": "execute_result",
          "data": {
            "text/plain": [
              "(0.0, 6.0)"
            ]
          },
          "metadata": {
            "tags": []
          },
          "execution_count": 41
        },
        {
          "output_type": "display_data",
          "data": {
            "image/png": "[encoded data removed]",
            "text/plain": [
              "<Figure size 1440x432 with 2 Axes>"
            ]
          },
          "metadata": {
            "tags": []
          }
        },
        {
          "output_type": "display_data",
          "data": {
            "text/plain": [
              "<Figure size 576x288 with 0 Axes>"
            ]
          },
          "metadata": {
            "tags": []
          }
        }
      ]
    },
    {
      "cell_type": "markdown",
      "metadata": {
        "id": "h9nSN8GaPpur"
      },
      "source": [
        "The above graph has decile score on x-axis and number of people who **did not** recidivate for the particular score assigned. A clear bias is visible from the above graph against Africa-Americans, those who did not recidivate are consistently assigned higher scores in contrast to Native Americans where number of people decline as the score increases in-fact there are no Native Americans in this case with score higher than six. The difference in scale of y-axis is because of the small number of Native Americans in the dataset"
      ]
    },
    {
      "cell_type": "code",
      "metadata": {
        "id": "xK-ms9Mi--8Y"
      },
      "source": [
        "from datetime import datetime\n",
        "def date_from_str(s):\n",
        "    return datetime.strptime(s, '%d/%m/%Y %H:%M')"
      ],
      "execution_count": null,
      "outputs": []
    },
    {
      "cell_type": "code",
      "metadata": {
        "id": "gsO5y5g2DGOL"
      },
      "source": [
        "raw_data['length_of_sentence'] = (raw_data['c_jail_out'].apply(date_from_str) - raw_data['c_jail_in'].apply(date_from_str)).dt.total_seconds()"
      ],
      "execution_count": null,
      "outputs": []
    },
    {
      "cell_type": "code",
      "metadata": {
        "id": "OCy_bud1aYdN",
        "colab": {
          "base_uri": "https://localhost:8080/",
          "height": 158
        },
        "outputId": "6f8a2c09-5bb7-4df0-e824-2bc5c2924141"
      },
      "source": [
        "import matplotlib.pyplot as plt\n",
        "raw_data.corr().style.format(\"{:.4}\").background_gradient(cmap=plt.get_cmap('coolwarm'), axis=1)"
      ],
      "execution_count": null,
      "outputs": [
        {
          "output_type": "execute_result",
          "data": {
            "text/html": [
              "<style  type=\"text/css\" >\n",
              "#T_3ce9b336_28e4_11eb_8094_0242ac1c0002row0_col0,#T_3ce9b336_28e4_11eb_8094_0242ac1c0002row1_col1,#T_3ce9b336_28e4_11eb_8094_0242ac1c0002row2_col2,#T_3ce9b336_28e4_11eb_8094_0242ac1c0002row3_col3,#T_3ce9b336_28e4_11eb_8094_0242ac1c0002row4_col4,#T_3ce9b336_28e4_11eb_8094_0242ac1c0002row5_col5{\n",
              "            background-color:  #b40426;\n",
              "            color:  #f1f1f1;\n",
              "        }#T_3ce9b336_28e4_11eb_8094_0242ac1c0002row0_col1,#T_3ce9b336_28e4_11eb_8094_0242ac1c0002row0_col3,#T_3ce9b336_28e4_11eb_8094_0242ac1c0002row1_col3,#T_3ce9b336_28e4_11eb_8094_0242ac1c0002row2_col1,#T_3ce9b336_28e4_11eb_8094_0242ac1c0002row3_col1,#T_3ce9b336_28e4_11eb_8094_0242ac1c0002row4_col3,#T_3ce9b336_28e4_11eb_8094_0242ac1c0002row5_col1{\n",
              "            background-color:  #3b4cc0;\n",
              "            color:  #f1f1f1;\n",
              "        }#T_3ce9b336_28e4_11eb_8094_0242ac1c0002row0_col2{\n",
              "            background-color:  #445acc;\n",
              "            color:  #f1f1f1;\n",
              "        }#T_3ce9b336_28e4_11eb_8094_0242ac1c0002row0_col4{\n",
              "            background-color:  #a5c3fe;\n",
              "            color:  #000000;\n",
              "        }#T_3ce9b336_28e4_11eb_8094_0242ac1c0002row0_col5{\n",
              "            background-color:  #6a8bef;\n",
              "            color:  #000000;\n",
              "        }#T_3ce9b336_28e4_11eb_8094_0242ac1c0002row1_col0{\n",
              "            background-color:  #6180e9;\n",
              "            color:  #000000;\n",
              "        }#T_3ce9b336_28e4_11eb_8094_0242ac1c0002row1_col2,#T_3ce9b336_28e4_11eb_8094_0242ac1c0002row2_col5{\n",
              "            background-color:  #4257c9;\n",
              "            color:  #f1f1f1;\n",
              "        }#T_3ce9b336_28e4_11eb_8094_0242ac1c0002row1_col4,#T_3ce9b336_28e4_11eb_8094_0242ac1c0002row2_col0{\n",
              "            background-color:  #6384eb;\n",
              "            color:  #000000;\n",
              "        }#T_3ce9b336_28e4_11eb_8094_0242ac1c0002row1_col5{\n",
              "            background-color:  #3f53c6;\n",
              "            color:  #f1f1f1;\n",
              "        }#T_3ce9b336_28e4_11eb_8094_0242ac1c0002row2_col3{\n",
              "            background-color:  #84a7fc;\n",
              "            color:  #000000;\n",
              "        }#T_3ce9b336_28e4_11eb_8094_0242ac1c0002row2_col4{\n",
              "            background-color:  #7295f4;\n",
              "            color:  #000000;\n",
              "        }#T_3ce9b336_28e4_11eb_8094_0242ac1c0002row3_col0{\n",
              "            background-color:  #6282ea;\n",
              "            color:  #000000;\n",
              "        }#T_3ce9b336_28e4_11eb_8094_0242ac1c0002row3_col2,#T_3ce9b336_28e4_11eb_8094_0242ac1c0002row5_col0{\n",
              "            background-color:  #8badfd;\n",
              "            color:  #000000;\n",
              "        }#T_3ce9b336_28e4_11eb_8094_0242ac1c0002row3_col4{\n",
              "            background-color:  #4961d2;\n",
              "            color:  #f1f1f1;\n",
              "        }#T_3ce9b336_28e4_11eb_8094_0242ac1c0002row3_col5{\n",
              "            background-color:  #485fd1;\n",
              "            color:  #f1f1f1;\n",
              "        }#T_3ce9b336_28e4_11eb_8094_0242ac1c0002row4_col0{\n",
              "            background-color:  #b7cff9;\n",
              "            color:  #000000;\n",
              "        }#T_3ce9b336_28e4_11eb_8094_0242ac1c0002row4_col1{\n",
              "            background-color:  #5470de;\n",
              "            color:  #000000;\n",
              "        }#T_3ce9b336_28e4_11eb_8094_0242ac1c0002row4_col2{\n",
              "            background-color:  #6b8df0;\n",
              "            color:  #000000;\n",
              "        }#T_3ce9b336_28e4_11eb_8094_0242ac1c0002row4_col5{\n",
              "            background-color:  #6c8ff1;\n",
              "            color:  #000000;\n",
              "        }#T_3ce9b336_28e4_11eb_8094_0242ac1c0002row5_col2{\n",
              "            background-color:  #455cce;\n",
              "            color:  #f1f1f1;\n",
              "        }#T_3ce9b336_28e4_11eb_8094_0242ac1c0002row5_col3{\n",
              "            background-color:  #4358cb;\n",
              "            color:  #f1f1f1;\n",
              "        }#T_3ce9b336_28e4_11eb_8094_0242ac1c0002row5_col4{\n",
              "            background-color:  #7699f6;\n",
              "            color:  #000000;\n",
              "        }</style><table id=\"T_3ce9b336_28e4_11eb_8094_0242ac1c0002\" ><thead>    <tr>        <th class=\"blank level0\" ></th>        <th class=\"col_heading level0 col0\" >decile_score</th>        <th class=\"col_heading level0 col1\" >juv_fel_count</th>        <th class=\"col_heading level0 col2\" >juv_misd_count</th>        <th class=\"col_heading level0 col3\" >juv_other_count</th>        <th class=\"col_heading level0 col4\" >priors_count</th>        <th class=\"col_heading level0 col5\" >is_recid</th>    </tr></thead><tbody>\n",
              "                <tr>\n",
              "                        <th id=\"T_3ce9b336_28e4_11eb_8094_0242ac1c0002level0_row0\" class=\"row_heading level0 row0\" >decile_score</th>\n",
              "                        <td id=\"T_3ce9b336_28e4_11eb_8094_0242ac1c0002row0_col0\" class=\"data row0 col0\" >1.0</td>\n",
              "                        <td id=\"T_3ce9b336_28e4_11eb_8094_0242ac1c0002row0_col1\" class=\"data row0 col1\" >0.1788</td>\n",
              "                        <td id=\"T_3ce9b336_28e4_11eb_8094_0242ac1c0002row0_col2\" class=\"data row0 col2\" >0.2055</td>\n",
              "                        <td id=\"T_3ce9b336_28e4_11eb_8094_0242ac1c0002row0_col3\" class=\"data row0 col3\" >0.1807</td>\n",
              "                        <td id=\"T_3ce9b336_28e4_11eb_8094_0242ac1c0002row0_col4\" class=\"data row0 col4\" >0.4405</td>\n",
              "                        <td id=\"T_3ce9b336_28e4_11eb_8094_0242ac1c0002row0_col5\" class=\"data row0 col5\" >0.3008</td>\n",
              "            </tr>\n",
              "            <tr>\n",
              "                        <th id=\"T_3ce9b336_28e4_11eb_8094_0242ac1c0002level0_row1\" class=\"row_heading level0 row1\" >juv_fel_count</th>\n",
              "                        <td id=\"T_3ce9b336_28e4_11eb_8094_0242ac1c0002row1_col0\" class=\"data row1 col0\" >0.1788</td>\n",
              "                        <td id=\"T_3ce9b336_28e4_11eb_8094_0242ac1c0002row1_col1\" class=\"data row1 col1\" >1.0</td>\n",
              "                        <td id=\"T_3ce9b336_28e4_11eb_8094_0242ac1c0002row1_col2\" class=\"data row1 col2\" >0.08754</td>\n",
              "                        <td id=\"T_3ce9b336_28e4_11eb_8094_0242ac1c0002row1_col3\" class=\"data row1 col3\" >0.06243</td>\n",
              "                        <td id=\"T_3ce9b336_28e4_11eb_8094_0242ac1c0002row1_col4\" class=\"data row1 col4\" >0.1845</td>\n",
              "                        <td id=\"T_3ce9b336_28e4_11eb_8094_0242ac1c0002row1_col5\" class=\"data row1 col5\" >0.07715</td>\n",
              "            </tr>\n",
              "            <tr>\n",
              "                        <th id=\"T_3ce9b336_28e4_11eb_8094_0242ac1c0002level0_row2\" class=\"row_heading level0 row2\" >juv_misd_count</th>\n",
              "                        <td id=\"T_3ce9b336_28e4_11eb_8094_0242ac1c0002row2_col0\" class=\"data row2 col0\" >0.2055</td>\n",
              "                        <td id=\"T_3ce9b336_28e4_11eb_8094_0242ac1c0002row2_col1\" class=\"data row2 col1\" >0.08754</td>\n",
              "                        <td id=\"T_3ce9b336_28e4_11eb_8094_0242ac1c0002row2_col2\" class=\"data row2 col2\" >1.0</td>\n",
              "                        <td id=\"T_3ce9b336_28e4_11eb_8094_0242ac1c0002row2_col3\" class=\"data row2 col3\" >0.291</td>\n",
              "                        <td id=\"T_3ce9b336_28e4_11eb_8094_0242ac1c0002row2_col4\" class=\"data row2 col4\" >0.2456</td>\n",
              "                        <td id=\"T_3ce9b336_28e4_11eb_8094_0242ac1c0002row2_col5\" class=\"data row2 col5\" >0.1103</td>\n",
              "            </tr>\n",
              "            <tr>\n",
              "                        <th id=\"T_3ce9b336_28e4_11eb_8094_0242ac1c0002level0_row3\" class=\"row_heading level0 row3\" >juv_other_count</th>\n",
              "                        <td id=\"T_3ce9b336_28e4_11eb_8094_0242ac1c0002row3_col0\" class=\"data row3 col0\" >0.1807</td>\n",
              "                        <td id=\"T_3ce9b336_28e4_11eb_8094_0242ac1c0002row3_col1\" class=\"data row3 col1\" >0.06243</td>\n",
              "                        <td id=\"T_3ce9b336_28e4_11eb_8094_0242ac1c0002row3_col2\" class=\"data row3 col2\" >0.291</td>\n",
              "                        <td id=\"T_3ce9b336_28e4_11eb_8094_0242ac1c0002row3_col3\" class=\"data row3 col3\" >1.0</td>\n",
              "                        <td id=\"T_3ce9b336_28e4_11eb_8094_0242ac1c0002row3_col4\" class=\"data row3 col4\" >0.1081</td>\n",
              "                        <td id=\"T_3ce9b336_28e4_11eb_8094_0242ac1c0002row3_col5\" class=\"data row3 col5\" >0.1037</td>\n",
              "            </tr>\n",
              "            <tr>\n",
              "                        <th id=\"T_3ce9b336_28e4_11eb_8094_0242ac1c0002level0_row4\" class=\"row_heading level0 row4\" >priors_count</th>\n",
              "                        <td id=\"T_3ce9b336_28e4_11eb_8094_0242ac1c0002row4_col0\" class=\"data row4 col0\" >0.4405</td>\n",
              "                        <td id=\"T_3ce9b336_28e4_11eb_8094_0242ac1c0002row4_col1\" class=\"data row4 col1\" >0.1845</td>\n",
              "                        <td id=\"T_3ce9b336_28e4_11eb_8094_0242ac1c0002row4_col2\" class=\"data row4 col2\" >0.2456</td>\n",
              "                        <td id=\"T_3ce9b336_28e4_11eb_8094_0242ac1c0002row4_col3\" class=\"data row4 col3\" >0.1081</td>\n",
              "                        <td id=\"T_3ce9b336_28e4_11eb_8094_0242ac1c0002row4_col4\" class=\"data row4 col4\" >1.0</td>\n",
              "                        <td id=\"T_3ce9b336_28e4_11eb_8094_0242ac1c0002row4_col5\" class=\"data row4 col5\" >0.2499</td>\n",
              "            </tr>\n",
              "            <tr>\n",
              "                        <th id=\"T_3ce9b336_28e4_11eb_8094_0242ac1c0002level0_row5\" class=\"row_heading level0 row5\" >is_recid</th>\n",
              "                        <td id=\"T_3ce9b336_28e4_11eb_8094_0242ac1c0002row5_col0\" class=\"data row5 col0\" >0.3008</td>\n",
              "                        <td id=\"T_3ce9b336_28e4_11eb_8094_0242ac1c0002row5_col1\" class=\"data row5 col1\" >0.07715</td>\n",
              "                        <td id=\"T_3ce9b336_28e4_11eb_8094_0242ac1c0002row5_col2\" class=\"data row5 col2\" >0.1103</td>\n",
              "                        <td id=\"T_3ce9b336_28e4_11eb_8094_0242ac1c0002row5_col3\" class=\"data row5 col3\" >0.1037</td>\n",
              "                        <td id=\"T_3ce9b336_28e4_11eb_8094_0242ac1c0002row5_col4\" class=\"data row5 col4\" >0.2499</td>\n",
              "                        <td id=\"T_3ce9b336_28e4_11eb_8094_0242ac1c0002row5_col5\" class=\"data row5 col5\" >1.0</td>\n",
              "            </tr>\n",
              "    </tbody></table>"
            ],
            "text/plain": [
              "<pandas.io.formats.style.Styler at 0x7f8a48120e80>"
            ]
          },
          "metadata": {
            "tags": []
          },
          "execution_count": 43
        }
      ]
    },
    {
      "cell_type": "markdown",
      "metadata": {
        "id": "Yt36BQ4NXtJF"
      },
      "source": [
        "Of all the features \"priors_count\" is the highest co-related feature to is_recid. Another interesting co-raltion is of \"length_of_stay\" which has a weak negative co-relation to is_recid feature.  "
      ]
    },
    {
      "cell_type": "markdown",
      "metadata": {
        "id": "C3Z61h96UCFX"
      },
      "source": [
        "# RENAMING CHARGE DESCRIPTIONS\n",
        "\n",
        "\n",
        "---\n",
        "\n"
      ]
    },
    {
      "cell_type": "code",
      "metadata": {
        "id": "khWvxXYqmpBY"
      },
      "source": [
        "def drug_charges(data):\n",
        "  '''drug_charges function is used to change the charge labels related to drug charges to a common name Possession of drugs.\n",
        "  Some of the charges which have keywords common to other charges are also excluded from the data by using .(contains(str)==False) function'''\n",
        "  \n",
        "  #Pos is the most common key word in all drug related charges eg: \"Possession of cocaine\" \n",
        "  \n",
        "  mod_df = data.loc[(data.c_charge_desc.str.startswith('Pos', na=False))]\n",
        "  mod_df = mod_df[['c_charge_desc']].copy()\n",
        "  \n",
        "  #Charges to which keyword pos is common are removed from the data frame mod_df\n",
        "\n",
        "  mod_df = mod_df.loc[mod_df['c_charge_desc'].str.contains('Burglary|Tools|Wep|Conv|Felo|Firearm|Id|Driver|Credit|Countrfeit|Shoplifting|child') == False]\n",
        "  mod_df = mod_df['c_charge_desc'].tolist()\n",
        "  #charge_desc in mod_df are replaced with charge \"Possession of drugs\"\n",
        "\n",
        "  data['c_charge_desc'].replace(to_replace = mod_df, value = 'Possession of drugs', inplace = True)\n",
        "  \n",
        "  return data"
      ],
      "execution_count": null,
      "outputs": []
    },
    {
      "cell_type": "code",
      "metadata": {
        "id": "pfAyZutNods_"
      },
      "source": [
        "def battery_charges(data):\n",
        "  '''battery_charges function is used to change the charge labels related to battery charges to common names related to different types of battery charges\n",
        "  eg. aggrravated battery, felony battery etc.'''\n",
        "  \n",
        "  #keyword: words used to identify charge uniquely\n",
        "  #label: alternate labels for corresponding charge descriptions\n",
        "\n",
        "  keyWord = ['Harm', 'Agg', 'Burg', 'sex|lewd', 'felony', 'off']\n",
        "  label = ['Battery causing body harm', 'Aggravated Battery', 'Burglary charge', 'sex Battery', 'felony Battery', 'Battery on an official']\n",
        "  \n",
        "  #Iterates over both keyword and label to change charge descriptions\n",
        "  for i,j in zip(keyWord, label):\n",
        "    mod_df = data.loc[data.c_charge_desc.str.contains('Batt', na=False, case = False)]\n",
        "    mod_df = mod_df[['c_charge_desc']].copy()\n",
        "    mod_df = mod_df.loc[mod_df.c_charge_desc.str.contains(i, na=False, case = False)]\n",
        "    mod_df = mod_df['c_charge_desc'].tolist()\n",
        "    data['c_charge_desc'] = data['c_charge_desc'].replace(to_replace = mod_df,\n",
        "                      value = j)\n",
        "  #Rest of the battery charges not falling in above labels are simply labeled as \"Battery\"\n",
        "  mod_df = data.loc[data.c_charge_desc.str.contains('Batt', na=False, case = False)]\n",
        "  mod_df = mod_df[['c_charge_desc']].copy()\n",
        "  mod_df = mod_df.loc[mod_df['c_charge_desc'].str.contains('official|felony|sex|Harm|Aggravated') == False]\n",
        "  mod_df = mod_df['c_charge_desc'].tolist()\n",
        "  data['c_charge_desc'] = data['c_charge_desc'].replace(to_replace = mod_df,\n",
        "                      value = 'Battery')\n",
        "\n",
        "  return data"
      ],
      "execution_count": null,
      "outputs": []
    },
    {
      "cell_type": "code",
      "metadata": {
        "id": "6TXNVMvTwW26"
      },
      "source": [
        "def common_charges1(data):\n",
        "  '''common_charges1 function iterates over the list keyWord and replaces all the charges containing the particular keyword(s) with the corresponding label'''\n",
        "\n",
        "  #keyword: words used to identify charge uniquely\n",
        "  #label: alternate labels for corresponding charge descriptions\n",
        "  \n",
        "\n",
        "  keyWord = ['Del|Sel|Purchas|Traffick', 'Burglary|Burg', 'Assault', 'Fraud|Imperson', 'Grand Theft', 'Petit|Theft', 'Tres', 'Rob', 'Crim', 'Child|Minor', 'Tamper|fabric', \n",
        "          'Wep|Firearm|weapon', 'soli|prosti|traf', 'leav|acc', 'lewd|sex', 'Murd', 'fle|elude|leo|Escape', 'stolen', 'stalk', 'dom', 'stalk']\n",
        "\n",
        "  label = ['Dealing in drugs', 'Burglary charge', 'Assault', 'Fraud', 'Grand Thfet', 'Petit Theft', 'Tresspassing', 'Robbery', 'Criminal Mischief', 'Child Abuse (Vol/Non-Vol/Sexual)', \n",
        "          'Tampering evidence/Victim', 'Possession of Weapon', 'Solicitaion', 'Leave scene of accident', 'Lewd or Lascivious Molestation', 'Murder/Attemp to Murder', 'Fleeing or attempt to elude', \n",
        "          'Dealing in stolen property', 'Viol Injunct Domestic Violence', 'Stalking (Viol Injunct/Aggr)']\n",
        "\n",
        "  #Iterates over KeyWords and labels to replace the c_charge_desc value with labels provided above \n",
        "\n",
        "  for i,j in zip(keyWord,label):\n",
        "   mod_df = data.loc[data.c_charge_desc.str.contains(i, na=False, case = False)]\n",
        "   mod_df = mod_df[['c_charge_desc']].copy()\n",
        "   mod_df = mod_df['c_charge_desc'].tolist()\n",
        "   data['c_charge_desc'] = data['c_charge_desc'].replace(to_replace = mod_df,\n",
        "                      value = j)\n",
        "  return data"
      ],
      "execution_count": null,
      "outputs": []
    },
    {
      "cell_type": "code",
      "metadata": {
        "id": "hCDdA9uFx-Y3"
      },
      "source": [
        "def common_charges2(data):\n",
        "\n",
        "  #keyword1: words used to identify charge uniquely\n",
        "  #KeyWord2: words which share keywords common to the charges mentioned in the list \"KeyWord1\" and \n",
        "  #          must be excluded from the set of charges to be replaced  \n",
        "  #label: alternate labels for corresponding charge descriptions\n",
        "\n",
        "  keyWord1 = ['Driv|Lic|DL|DWL', 'Id|Invalid|Insurance', 'fail|pay|Pay', 'school|instui|edu', 'Obstruct']\n",
        "\n",
        "  keyWord2 = ['Beverage|Solic|Prosti|Public', 'accident|Ride|Kidnapping|Escape|evidence', 'Carrer|Load|Secur|Career|Summons|Vehicle', 'Carrer|Load|Secur|Career|Summons|Vehicle', 'Fire|Resist']\n",
        "  \n",
        "  label = ['Driving', 'Possession/Use of false name/Identity', 'Failure to Pay conveyance charge', 'Disrupting school/Education Instui', 'Resist Officer w/Violence']\n",
        "  \n",
        "  #Iterates over KeyWords and labels to replace the c_charge_desc value with labels provided above \n",
        "\n",
        "  for i,j,k in zip(keyWord1, keyWord2, label):\n",
        "    mod_df = data.loc[data.c_charge_desc.str.contains(i, na=False, case = False)]\n",
        "    mod_df = mod_df[['c_charge_desc']].copy()\n",
        "    mod_df = mod_df.loc[mod_df['c_charge_desc'].str.contains(j) == False]\n",
        "    mod_df = mod_df['c_charge_desc'].tolist()\n",
        "    data['c_charge_desc'] = data['c_charge_desc'].replace(to_replace = mod_df,\n",
        "                      value = k)\n",
        "  return data"
      ],
      "execution_count": null,
      "outputs": []
    },
    {
      "cell_type": "code",
      "metadata": {
        "id": "XhwCMjzJzhy0"
      },
      "source": [
        "def common_charges3(data):\n",
        "\n",
        "  #keyword: words used to identify charge uniquely\n",
        "  #label: alternate labels for corresponding charge descriptions\n",
        "\n",
        "  keyWord = ['bill', 'elder|adult', 'DUI|D.U.I', 'alcohol', 'animal', '911', 'shop|shoplifting', 'forge|card|bill|check', 'Harm public servant', 'abuse without', \n",
        "             'attnd|attend', 'Resisting W/O Violence', 'Obstruct', 'Tag', 'shoot|Throw Missile Into Pub/Priv Dw|Throw in occupied dwell', 'sound']\n",
        "\n",
        "  label = ['Forging bills', 'Abuse elderly', 'DUI', 'Alcoholic Beverage Violation-FL', 'Animal cruelty', 'Misuse Of 911', 'Poss/Use Anti-Shoplifting Device', 'Uttering/Poss a Forged Instrument', 'Resist Officer w/Violence', 'Resist/Obstruct W/O Violence', \n",
        "           'Compulsary attendence violation', 'Resist/Obstruct W/O Violence', 'Resist Officer w/Violence', 'Misuse/alter dealer tag', 'Shoot into vehicle/dwell', 'Lewd or Lascivious Molestation', 'Unauth C/P/S Sounds']\n",
        "    \n",
        "  #Iterates over KeyWords and labels to replace the c_charge_desc value with labels provided above \n",
        "  \n",
        "  for i,j in zip(keyWord, label):\n",
        "   mod_df = data.loc[data.c_charge_desc.str.contains(i, na=False, case = False)]\n",
        "   mod_df = mod_df[['c_charge_desc']].copy()\n",
        "   mod_df = mod_df['c_charge_desc'].tolist()\n",
        "   data['c_charge_desc'] = data['c_charge_desc'].replace(to_replace = mod_df,\n",
        "                      value = j)\n",
        "  return data"
      ],
      "execution_count": null,
      "outputs": []
    },
    {
      "cell_type": "code",
      "metadata": {
        "id": "zIzuEeZBjKWA"
      },
      "source": [
        "def change_label(data):\n",
        "  '''The change_label function calls the following sub-routines in a particular order since the charge labels in \n",
        "  c_charge_desc contain many common keywords therefore the order must not be changed inorder to get correct results'''\n",
        "\n",
        "  data = drug_charges(data)\n",
        "  data = battery_charges(data)\n",
        "  data = common_charges1(data)\n",
        "  data = common_charges2(data)\n",
        "  data = common_charges3(data)\n",
        "  return data"
      ],
      "execution_count": null,
      "outputs": []
    },
    {
      "cell_type": "code",
      "metadata": {
        "id": "qxBb1dvkuhlA",
        "colab": {
          "base_uri": "https://localhost:8080/",
          "height": 195
        },
        "outputId": "c7bd1da2-9bf0-4715-c46f-58886e09fd37"
      },
      "source": [
        "#raw-data is sent to change_label function for re-labeling of c_charge_desc.\n",
        "\n",
        "data = change_label(raw_data) \n",
        "data.head()"
      ],
      "execution_count": null,
      "outputs": [
        {
          "output_type": "execute_result",
          "data": {
            "text/html": [
              "<div>\n",
              "<style scoped>\n",
              "    .dataframe tbody tr th:only-of-type {\n",
              "        vertical-align: middle;\n",
              "    }\n",
              "\n",
              "    .dataframe tbody tr th {\n",
              "        vertical-align: top;\n",
              "    }\n",
              "\n",
              "    .dataframe thead th {\n",
              "        text-align: right;\n",
              "    }\n",
              "</style>\n",
              "<table border=\"1\" class=\"dataframe\">\n",
              "  <thead>\n",
              "    <tr style=\"text-align: right;\">\n",
              "      <th></th>\n",
              "      <th>age_cat</th>\n",
              "      <th>sex</th>\n",
              "      <th>race</th>\n",
              "      <th>decile_score</th>\n",
              "      <th>juv_fel_count</th>\n",
              "      <th>juv_misd_count</th>\n",
              "      <th>juv_other_count</th>\n",
              "      <th>priors_count</th>\n",
              "      <th>c_charge_degree</th>\n",
              "      <th>c_charge_desc</th>\n",
              "      <th>is_recid</th>\n",
              "    </tr>\n",
              "  </thead>\n",
              "  <tbody>\n",
              "    <tr>\n",
              "      <th>0</th>\n",
              "      <td>Greater than 45</td>\n",
              "      <td>Male</td>\n",
              "      <td>Other</td>\n",
              "      <td>1</td>\n",
              "      <td>0</td>\n",
              "      <td>0</td>\n",
              "      <td>0</td>\n",
              "      <td>0</td>\n",
              "      <td>(F3)</td>\n",
              "      <td>Assault</td>\n",
              "      <td>0</td>\n",
              "    </tr>\n",
              "    <tr>\n",
              "      <th>3</th>\n",
              "      <td>25 - 45</td>\n",
              "      <td>Male</td>\n",
              "      <td>African-American</td>\n",
              "      <td>3</td>\n",
              "      <td>0</td>\n",
              "      <td>0</td>\n",
              "      <td>0</td>\n",
              "      <td>0</td>\n",
              "      <td>(F3)</td>\n",
              "      <td>felony Battery</td>\n",
              "      <td>1</td>\n",
              "    </tr>\n",
              "    <tr>\n",
              "      <th>4</th>\n",
              "      <td>Less than 25</td>\n",
              "      <td>Male</td>\n",
              "      <td>African-American</td>\n",
              "      <td>4</td>\n",
              "      <td>0</td>\n",
              "      <td>0</td>\n",
              "      <td>1</td>\n",
              "      <td>4</td>\n",
              "      <td>(F3)</td>\n",
              "      <td>Possession of drugs</td>\n",
              "      <td>1</td>\n",
              "    </tr>\n",
              "    <tr>\n",
              "      <th>9</th>\n",
              "      <td>Less than 25</td>\n",
              "      <td>Male</td>\n",
              "      <td>African-American</td>\n",
              "      <td>8</td>\n",
              "      <td>0</td>\n",
              "      <td>1</td>\n",
              "      <td>0</td>\n",
              "      <td>1</td>\n",
              "      <td>(F3)</td>\n",
              "      <td>Possession of drugs</td>\n",
              "      <td>0</td>\n",
              "    </tr>\n",
              "    <tr>\n",
              "      <th>10</th>\n",
              "      <td>25 - 45</td>\n",
              "      <td>Male</td>\n",
              "      <td>Other</td>\n",
              "      <td>1</td>\n",
              "      <td>0</td>\n",
              "      <td>0</td>\n",
              "      <td>0</td>\n",
              "      <td>2</td>\n",
              "      <td>(F7)</td>\n",
              "      <td>arrest case no charge</td>\n",
              "      <td>0</td>\n",
              "    </tr>\n",
              "  </tbody>\n",
              "</table>\n",
              "</div>"
            ],
            "text/plain": [
              "            age_cat   sex  ...          c_charge_desc  is_recid\n",
              "0   Greater than 45  Male  ...                Assault         0\n",
              "3           25 - 45  Male  ...         felony Battery         1\n",
              "4      Less than 25  Male  ...    Possession of drugs         1\n",
              "9      Less than 25  Male  ...    Possession of drugs         0\n",
              "10          25 - 45  Male  ...  arrest case no charge         0\n",
              "\n",
              "[5 rows x 11 columns]"
            ]
          },
          "metadata": {
            "tags": []
          },
          "execution_count": 50
        }
      ]
    },
    {
      "cell_type": "markdown",
      "metadata": {
        "id": "09h7mbm8boK8"
      },
      "source": [
        "Data frame **data** has all the re-labeled charge descriptions after pre-processing"
      ]
    },
    {
      "cell_type": "markdown",
      "metadata": {
        "id": "SA1JX285Smoo"
      },
      "source": [
        "# CHARGES WITH HIGHEST COUNT\n",
        "\n",
        "\n",
        "---\n",
        "\n"
      ]
    },
    {
      "cell_type": "code",
      "metadata": {
        "id": "Bc7MiD9BddrZ",
        "colab": {
          "base_uri": "https://localhost:8080/",
          "height": 791
        },
        "outputId": "745762b0-1276-430c-bd63-a25ea2d5da8b"
      },
      "source": [
        "#Below code selects top 10 most common charges from the c_charge_desc and visualizes it as bar graphs.\n",
        "plt.style.use(['ggplot'])\n",
        "charge_dict = data['c_charge_desc'].value_counts().to_dict()\n",
        "charge_dict = sorted(charge_dict.items(), key=lambda s: (s[1]), reverse = True)\n",
        "cnt = 1\n",
        "charge = []\n",
        "count = []\n",
        "for i in charge_dict:\n",
        "  if cnt<=8:\n",
        "    charge.append(i[0])\n",
        "    count.append(i[1])\n",
        "    cnt+=1\n",
        "  else:\n",
        "    break\n",
        "plt.figure(figsize=(12,12))\n",
        "plt.bar(charge, count, width=0.3)\n",
        "plt.xticks(rotation=45) \n",
        "plt.xlabel('Charge description')\n",
        "plt.ylabel('Count')\n",
        "plt.show()"
      ],
      "execution_count": null,
      "outputs": [
        {
          "output_type": "display_data",
          "data": {
            "image/png": "[encoded data removed]",
            "text/plain": [
              "<Figure size 864x864 with 1 Axes>"
            ]
          },
          "metadata": {
            "tags": []
          }
        }
      ]
    },
    {
      "cell_type": "markdown",
      "metadata": {
        "id": "_BpA4qSbUHmI"
      },
      "source": [
        "The above graph shows the most common charges in the dataset"
      ]
    },
    {
      "cell_type": "markdown",
      "metadata": {
        "id": "gBlDbob7vlDx"
      },
      "source": [
        "# ADDING FEATURE (Charge_cat)\n",
        "\n",
        "---\n",
        "\n",
        "\n",
        "\n",
        "A new feature **charge_cat** is to be added based on the labels of c_charge_desc which will contain the following ctegories\n",
        "\n",
        "\n",
        "1.   Violent crime\n",
        "2.   Non-Violent crime\n",
        "3.   Drug charges\n",
        "\n",
        "In order to maintain consistency, charge_cat feature is added to both the pre-processed dataset and raw dataset, and also to provide better labeling of charge_cat both the datasets are used beacause the c_charge_desc in pre-processed dataset are more generalized during pre-processing.  \n"
      ]
    },
    {
      "cell_type": "code",
      "metadata": {
        "id": "-2LEeyXcdxGn",
        "colab": {
          "base_uri": "https://localhost:8080/",
          "height": 195
        },
        "outputId": "9bef48fa-b057-4ed3-f121-b2a78a683344"
      },
      "source": [
        "#New feature charge_cat is created\n",
        "data['charge_cat'] = \"\"\n",
        "#List of common key words found in violent charges are stored as \n",
        "keyWord = 'Aggr|Robb|threat|kidnap|armed|wep|murder|domes|abuse|damage|injury|assault|Harass|molestation|violence|shoot|lewd|cruel|felony battery|Aggravated battery|Battery on official'\n",
        "data.head()"
      ],
      "execution_count": null,
      "outputs": [
        {
          "output_type": "execute_result",
          "data": {
            "text/html": [
              "<div>\n",
              "<style scoped>\n",
              "    .dataframe tbody tr th:only-of-type {\n",
              "        vertical-align: middle;\n",
              "    }\n",
              "\n",
              "    .dataframe tbody tr th {\n",
              "        vertical-align: top;\n",
              "    }\n",
              "\n",
              "    .dataframe thead th {\n",
              "        text-align: right;\n",
              "    }\n",
              "</style>\n",
              "<table border=\"1\" class=\"dataframe\">\n",
              "  <thead>\n",
              "    <tr style=\"text-align: right;\">\n",
              "      <th></th>\n",
              "      <th>age_cat</th>\n",
              "      <th>sex</th>\n",
              "      <th>race</th>\n",
              "      <th>decile_score</th>\n",
              "      <th>juv_fel_count</th>\n",
              "      <th>juv_misd_count</th>\n",
              "      <th>juv_other_count</th>\n",
              "      <th>priors_count</th>\n",
              "      <th>c_charge_degree</th>\n",
              "      <th>c_charge_desc</th>\n",
              "      <th>is_recid</th>\n",
              "      <th>charge_cat</th>\n",
              "    </tr>\n",
              "  </thead>\n",
              "  <tbody>\n",
              "    <tr>\n",
              "      <th>0</th>\n",
              "      <td>Greater than 45</td>\n",
              "      <td>Male</td>\n",
              "      <td>Other</td>\n",
              "      <td>1</td>\n",
              "      <td>0</td>\n",
              "      <td>0</td>\n",
              "      <td>0</td>\n",
              "      <td>0</td>\n",
              "      <td>(F3)</td>\n",
              "      <td>Assault</td>\n",
              "      <td>0</td>\n",
              "      <td></td>\n",
              "    </tr>\n",
              "    <tr>\n",
              "      <th>3</th>\n",
              "      <td>25 - 45</td>\n",
              "      <td>Male</td>\n",
              "      <td>African-American</td>\n",
              "      <td>3</td>\n",
              "      <td>0</td>\n",
              "      <td>0</td>\n",
              "      <td>0</td>\n",
              "      <td>0</td>\n",
              "      <td>(F3)</td>\n",
              "      <td>felony Battery</td>\n",
              "      <td>1</td>\n",
              "      <td></td>\n",
              "    </tr>\n",
              "    <tr>\n",
              "      <th>4</th>\n",
              "      <td>Less than 25</td>\n",
              "      <td>Male</td>\n",
              "      <td>African-American</td>\n",
              "      <td>4</td>\n",
              "      <td>0</td>\n",
              "      <td>0</td>\n",
              "      <td>1</td>\n",
              "      <td>4</td>\n",
              "      <td>(F3)</td>\n",
              "      <td>Possession of drugs</td>\n",
              "      <td>1</td>\n",
              "      <td></td>\n",
              "    </tr>\n",
              "    <tr>\n",
              "      <th>9</th>\n",
              "      <td>Less than 25</td>\n",
              "      <td>Male</td>\n",
              "      <td>African-American</td>\n",
              "      <td>8</td>\n",
              "      <td>0</td>\n",
              "      <td>1</td>\n",
              "      <td>0</td>\n",
              "      <td>1</td>\n",
              "      <td>(F3)</td>\n",
              "      <td>Possession of drugs</td>\n",
              "      <td>0</td>\n",
              "      <td></td>\n",
              "    </tr>\n",
              "    <tr>\n",
              "      <th>10</th>\n",
              "      <td>25 - 45</td>\n",
              "      <td>Male</td>\n",
              "      <td>Other</td>\n",
              "      <td>1</td>\n",
              "      <td>0</td>\n",
              "      <td>0</td>\n",
              "      <td>0</td>\n",
              "      <td>2</td>\n",
              "      <td>(F7)</td>\n",
              "      <td>arrest case no charge</td>\n",
              "      <td>0</td>\n",
              "      <td></td>\n",
              "    </tr>\n",
              "  </tbody>\n",
              "</table>\n",
              "</div>"
            ],
            "text/plain": [
              "            age_cat   sex  ... is_recid  charge_cat\n",
              "0   Greater than 45  Male  ...        0            \n",
              "3           25 - 45  Male  ...        1            \n",
              "4      Less than 25  Male  ...        1            \n",
              "9      Less than 25  Male  ...        0            \n",
              "10          25 - 45  Male  ...        0            \n",
              "\n",
              "[5 rows x 12 columns]"
            ]
          },
          "metadata": {
            "tags": []
          },
          "execution_count": 52
        }
      ]
    },
    {
      "cell_type": "markdown",
      "metadata": {
        "id": "z4G6J2a221m3"
      },
      "source": [
        "\n",
        "\n",
        "---\n",
        "\n",
        "\n",
        "New features are added to both data, raw_data and initialized to None. A list of common keywords that appear in violent crimes is made and stored in a string variable with an or operator '|'"
      ]
    },
    {
      "cell_type": "markdown",
      "metadata": {
        "id": "z8k9aIjG52RY"
      },
      "source": [
        "We pass the string \"keyWord\" to both pre-processed and raw dataset and the corresponding charges are labeled as Violent crimes. The columns for both the datasets are then made equal so that none of the charges are missed in any of the dataset as the charge decriptions were renamed in dataframe \"data\""
      ]
    },
    {
      "cell_type": "code",
      "metadata": {
        "id": "aLZV50nA2wNW"
      },
      "source": [
        "def violent_crime(df):\n",
        "  '''violent_crime function is used to label all the charges with the words in the keyWord string with violent crime and\n",
        "  it is used for both raw data and pre-processed data'''\n",
        "  \n",
        "  mod_df = df.loc[df.c_charge_desc.str.contains(keyWord, na=False, case = False)]\n",
        "  mod_df = mod_df['c_charge_desc'].tolist()\n",
        "  df['charge_cat'] = df.apply(lambda x: 'Violent crime' if x.c_charge_desc in mod_df else x.charge_cat, axis = 1)\n",
        "  return df"
      ],
      "execution_count": null,
      "outputs": []
    },
    {
      "cell_type": "code",
      "metadata": {
        "id": "64-hLk71BWrG"
      },
      "source": [
        "def violent_crime_raw(df):\n",
        "  '''violent_crime_raw is used to label charges left after running violent_crime(df) function'''\n",
        "  \n",
        "  mod_df = df.loc[df.c_charge_desc.str.contains('batt|flee|elude', na=False, case = False)]\n",
        "  mod_df = mod_df.loc[mod_df.c_charge_desc.str.contains('Assault|Agg|Armed|harm|wep|felony|burg', na=False, case = False)]\n",
        "  mod_df['c_charge_desc'].tolist()\n",
        "  df['charge_cat'] = df.apply(lambda x: 'Violent crime' if x.c_charge_desc in mod_df else x.charge_cat, axis = 1)\n",
        "  return df"
      ],
      "execution_count": null,
      "outputs": []
    },
    {
      "cell_type": "code",
      "metadata": {
        "id": "xCqdyMdjDe4S"
      },
      "source": [
        "def drug_charge(df):\n",
        "  '''Assigns category to charges: possesion of drugs, dealing in drugs and manufacture of cannabis as \"Drug charges\" '''\n",
        "\n",
        "  mod_df = df.loc[df.c_charge_desc.str.contains('Possession of drugs|Dealing in drugs|Manufacure cannabis', na=False, case = False)]\n",
        "  mod_df = mod_df['c_charge_desc'].tolist()\n",
        "  df['charge_cat'] = df.apply(lambda x: 'Drug charges' if x.c_charge_desc in mod_df else x.charge_cat, axis = 1)\n",
        "  return df"
      ],
      "execution_count": null,
      "outputs": []
    },
    {
      "cell_type": "code",
      "metadata": {
        "id": "uRPnPRrqEDMg"
      },
      "source": [
        "def non_violent(df):\n",
        "  '''Assigns category as non-violent charges to the rest of the charges'''\n",
        "  \n",
        "  df['charge_cat'] = df.apply(lambda x: 'Non-violent crime' if x.charge_cat is \"\" else x.charge_cat, axis = 1)\n",
        "  return df "
      ],
      "execution_count": null,
      "outputs": []
    },
    {
      "cell_type": "code",
      "metadata": {
        "id": "pWBVyzfBblZR",
        "colab": {
          "base_uri": "https://localhost:8080/",
          "height": 343
        },
        "outputId": "14170470-b58f-40df-acfc-41c916179bb3"
      },
      "source": [
        "#Function calls to assign category to charges in raw_data\n",
        "\n",
        "raw_data = violent_crime(raw_data)\n",
        "raw_data = violent_crime_raw(raw_data)\n",
        "\n",
        "data['charge_cat'] = raw_data['charge_cat']\n",
        "\n",
        "#Function calls to assign category to charges in data\n",
        "\n",
        "data = violent_crime(data)\n",
        "\n",
        "data = drug_charge(data)\n",
        "data = non_violent(data)\n",
        "\n",
        "raw_data['charge_cat'] = data['charge_cat']\n",
        "data.head(10)"
      ],
      "execution_count": null,
      "outputs": [
        {
          "output_type": "execute_result",
          "data": {
            "text/html": [
              "<div>\n",
              "<style scoped>\n",
              "    .dataframe tbody tr th:only-of-type {\n",
              "        vertical-align: middle;\n",
              "    }\n",
              "\n",
              "    .dataframe tbody tr th {\n",
              "        vertical-align: top;\n",
              "    }\n",
              "\n",
              "    .dataframe thead th {\n",
              "        text-align: right;\n",
              "    }\n",
              "</style>\n",
              "<table border=\"1\" class=\"dataframe\">\n",
              "  <thead>\n",
              "    <tr style=\"text-align: right;\">\n",
              "      <th></th>\n",
              "      <th>age_cat</th>\n",
              "      <th>sex</th>\n",
              "      <th>race</th>\n",
              "      <th>decile_score</th>\n",
              "      <th>juv_fel_count</th>\n",
              "      <th>juv_misd_count</th>\n",
              "      <th>juv_other_count</th>\n",
              "      <th>priors_count</th>\n",
              "      <th>c_charge_degree</th>\n",
              "      <th>c_charge_desc</th>\n",
              "      <th>is_recid</th>\n",
              "      <th>charge_cat</th>\n",
              "    </tr>\n",
              "  </thead>\n",
              "  <tbody>\n",
              "    <tr>\n",
              "      <th>0</th>\n",
              "      <td>Greater than 45</td>\n",
              "      <td>Male</td>\n",
              "      <td>Other</td>\n",
              "      <td>1</td>\n",
              "      <td>0</td>\n",
              "      <td>0</td>\n",
              "      <td>0</td>\n",
              "      <td>0</td>\n",
              "      <td>(F3)</td>\n",
              "      <td>Assault</td>\n",
              "      <td>0</td>\n",
              "      <td>Violent crime</td>\n",
              "    </tr>\n",
              "    <tr>\n",
              "      <th>3</th>\n",
              "      <td>25 - 45</td>\n",
              "      <td>Male</td>\n",
              "      <td>African-American</td>\n",
              "      <td>3</td>\n",
              "      <td>0</td>\n",
              "      <td>0</td>\n",
              "      <td>0</td>\n",
              "      <td>0</td>\n",
              "      <td>(F3)</td>\n",
              "      <td>felony Battery</td>\n",
              "      <td>1</td>\n",
              "      <td>Violent crime</td>\n",
              "    </tr>\n",
              "    <tr>\n",
              "      <th>4</th>\n",
              "      <td>Less than 25</td>\n",
              "      <td>Male</td>\n",
              "      <td>African-American</td>\n",
              "      <td>4</td>\n",
              "      <td>0</td>\n",
              "      <td>0</td>\n",
              "      <td>1</td>\n",
              "      <td>4</td>\n",
              "      <td>(F3)</td>\n",
              "      <td>Possession of drugs</td>\n",
              "      <td>1</td>\n",
              "      <td>Drug charges</td>\n",
              "    </tr>\n",
              "    <tr>\n",
              "      <th>9</th>\n",
              "      <td>Less than 25</td>\n",
              "      <td>Male</td>\n",
              "      <td>African-American</td>\n",
              "      <td>8</td>\n",
              "      <td>0</td>\n",
              "      <td>1</td>\n",
              "      <td>0</td>\n",
              "      <td>1</td>\n",
              "      <td>(F3)</td>\n",
              "      <td>Possession of drugs</td>\n",
              "      <td>0</td>\n",
              "      <td>Drug charges</td>\n",
              "    </tr>\n",
              "    <tr>\n",
              "      <th>10</th>\n",
              "      <td>25 - 45</td>\n",
              "      <td>Male</td>\n",
              "      <td>Other</td>\n",
              "      <td>1</td>\n",
              "      <td>0</td>\n",
              "      <td>0</td>\n",
              "      <td>0</td>\n",
              "      <td>2</td>\n",
              "      <td>(F7)</td>\n",
              "      <td>arrest case no charge</td>\n",
              "      <td>0</td>\n",
              "      <td>Non-violent crime</td>\n",
              "    </tr>\n",
              "    <tr>\n",
              "      <th>11</th>\n",
              "      <td>25 - 45</td>\n",
              "      <td>Male</td>\n",
              "      <td>Other</td>\n",
              "      <td>1</td>\n",
              "      <td>0</td>\n",
              "      <td>0</td>\n",
              "      <td>0</td>\n",
              "      <td>0</td>\n",
              "      <td>(M1)</td>\n",
              "      <td>Battery</td>\n",
              "      <td>0</td>\n",
              "      <td>Non-violent crime</td>\n",
              "    </tr>\n",
              "    <tr>\n",
              "      <th>12</th>\n",
              "      <td>25 - 45</td>\n",
              "      <td>Male</td>\n",
              "      <td>Caucasian</td>\n",
              "      <td>6</td>\n",
              "      <td>0</td>\n",
              "      <td>0</td>\n",
              "      <td>0</td>\n",
              "      <td>14</td>\n",
              "      <td>(F3)</td>\n",
              "      <td>Burglary charge</td>\n",
              "      <td>1</td>\n",
              "      <td>Non-violent crime</td>\n",
              "    </tr>\n",
              "    <tr>\n",
              "      <th>14</th>\n",
              "      <td>25 - 45</td>\n",
              "      <td>Male</td>\n",
              "      <td>Other</td>\n",
              "      <td>4</td>\n",
              "      <td>0</td>\n",
              "      <td>0</td>\n",
              "      <td>0</td>\n",
              "      <td>3</td>\n",
              "      <td>(F3)</td>\n",
              "      <td>arrest case no charge</td>\n",
              "      <td>0</td>\n",
              "      <td>Non-violent crime</td>\n",
              "    </tr>\n",
              "    <tr>\n",
              "      <th>17</th>\n",
              "      <td>25 - 45</td>\n",
              "      <td>Female</td>\n",
              "      <td>Caucasian</td>\n",
              "      <td>1</td>\n",
              "      <td>0</td>\n",
              "      <td>0</td>\n",
              "      <td>0</td>\n",
              "      <td>0</td>\n",
              "      <td>(M1)</td>\n",
              "      <td>Battery</td>\n",
              "      <td>0</td>\n",
              "      <td>Non-violent crime</td>\n",
              "    </tr>\n",
              "    <tr>\n",
              "      <th>18</th>\n",
              "      <td>Less than 25</td>\n",
              "      <td>Male</td>\n",
              "      <td>Caucasian</td>\n",
              "      <td>10</td>\n",
              "      <td>0</td>\n",
              "      <td>0</td>\n",
              "      <td>1</td>\n",
              "      <td>0</td>\n",
              "      <td>(F3)</td>\n",
              "      <td>Possession of drugs</td>\n",
              "      <td>0</td>\n",
              "      <td>Drug charges</td>\n",
              "    </tr>\n",
              "  </tbody>\n",
              "</table>\n",
              "</div>"
            ],
            "text/plain": [
              "            age_cat     sex  ... is_recid         charge_cat\n",
              "0   Greater than 45    Male  ...        0      Violent crime\n",
              "3           25 - 45    Male  ...        1      Violent crime\n",
              "4      Less than 25    Male  ...        1       Drug charges\n",
              "9      Less than 25    Male  ...        0       Drug charges\n",
              "10          25 - 45    Male  ...        0  Non-violent crime\n",
              "11          25 - 45    Male  ...        0  Non-violent crime\n",
              "12          25 - 45    Male  ...        1  Non-violent crime\n",
              "14          25 - 45    Male  ...        0  Non-violent crime\n",
              "17          25 - 45  Female  ...        0  Non-violent crime\n",
              "18     Less than 25    Male  ...        0       Drug charges\n",
              "\n",
              "[10 rows x 12 columns]"
            ]
          },
          "metadata": {
            "tags": []
          },
          "execution_count": 63
        }
      ]
    },
    {
      "cell_type": "markdown",
      "metadata": {
        "id": "L8lcgBo7YS1U"
      },
      "source": [
        "Charge categories in c_charge_desc were generalised by renaming and in order to avoid misclassification of any of the charges in data, categories are assigned to both raw_data and data and their resukts are merged."
      ]
    },
    {
      "cell_type": "code",
      "metadata": {
        "id": "gIgirwxrqXXY",
        "colab": {
          "base_uri": "https://localhost:8080/",
          "height": 466
        },
        "outputId": "2b43ba11-ca0d-4fcd-d3cc-c0bef4b58102"
      },
      "source": [
        "#dict 'race' is sreated for distribution of race feature\n",
        "charge_cat = data['charge_cat'].value_counts().to_dict()\n",
        "#label: type of race\n",
        "label = []\n",
        "#count: number of people of that race\n",
        "count = []\n",
        "\n",
        "for i in charge_cat.items():\n",
        "  #values are stored in count, label using race dict \n",
        "  label.append(i[0])\n",
        "  count.append(i[1])\n",
        "\n",
        "plt.style.use(['ggplot'])\n",
        "plt.figure(figsize=(8,8))\n",
        "plt.pie(count, labels = label, autopct='%1.2f', startangle=90)\n",
        "plt.axis('equal')\n",
        "plt.show()"
      ],
      "execution_count": null,
      "outputs": [
        {
          "output_type": "display_data",
          "data": {
            "image/png": "[encoded data removed]",
            "text/plain": [
              "<Figure size 576x576 with 1 Axes>"
            ]
          },
          "metadata": {
            "tags": []
          }
        }
      ]
    },
    {
      "cell_type": "code",
      "metadata": {
        "id": "53go9s5ldB2n",
        "colab": {
          "base_uri": "https://localhost:8080/"
        },
        "outputId": "ac23950a-8a57-49fb-b195-0dbf668d36f0"
      },
      "source": [
        "#Separate datasets for input and outout are craeted\n",
        "\n",
        "inp_data = data[['age_cat', 'sex', 'juv_misd_count', 'juv_other_count', 'juv_fel_count', 'priors_count', 'c_charge_degree', 'c_charge_desc', 'charge_cat']].copy()\n",
        "out_data = data[['is_recid']].copy()\n",
        "\n",
        "#Labels for categorical features in input data frame are binarized below\n",
        "\n",
        "inp_data = pd.get_dummies(inp_data, columns=['age_cat', 'sex', 'c_charge_degree', 'c_charge_desc', 'charge_cat', 'juv_other_count', 'juv_misd_count', 'juv_fel_count', 'priors_count'])\n",
        "inp_data.shape"
      ],
      "execution_count": null,
      "outputs": [
        {
          "output_type": "execute_result",
          "data": {
            "text/plain": [
              "(10598, 185)"
            ]
          },
          "metadata": {
            "tags": []
          },
          "execution_count": 28
        }
      ]
    },
    {
      "cell_type": "markdown",
      "metadata": {
        "id": "WMbVrbvadBGr"
      },
      "source": [
        "\n",
        "\n",
        "\n",
        "Input and output datasets are created by selecting features from processed data. All the categorical features are binarized using sklearn's one hot vector encoding where these features are converted into boolean vectors. "
      ]
    },
    {
      "cell_type": "code",
      "metadata": {
        "id": "1IUIrWeAsu7m"
      },
      "source": [
        "data.to_pickle(r\"/gdrive/My Drive/data.pkl\")\n",
        "inp_data.to_pickle(r\"/gdrive/My Drive/inp_data.pkl\")\n",
        "out_data.to_pickle(r\"/gdrive/My Drive/out_data.pkl\")"
      ],
      "execution_count": null,
      "outputs": []
    },
    {
      "cell_type": "markdown",
      "metadata": {
        "id": "AM98soSWswkd"
      },
      "source": [
        "\n",
        "\n",
        "\n",
        "\n",
        "\n",
        "\n",
        "Three datasets are namely data, inp_data, out_data are pickled and saved in google drive"
      ]
    },
    {
      "cell_type": "markdown",
      "metadata": {
        "id": "9zAXYV65OUKL"
      },
      "source": [
        "# Drop Charge Descriptions\n",
        "\n",
        "A new dataset is created where instead of using charges description and categorie only charge categorie is used to check if a better generalization is possibile on using only the nature of the crime instead of both description and it's nature."
      ]
    },
    {
      "cell_type": "code",
      "metadata": {
        "id": "q-JbGo2eOTjP",
        "colab": {
          "base_uri": "https://localhost:8080/"
        },
        "outputId": "bac9e1ea-3b08-4d64-e9cf-61a66c4fb1b1"
      },
      "source": [
        "#Separate datasets for input and outout are created without including charge descriptions\n",
        "\n",
        "drop_desc = data[['age_cat', 'sex', 'juv_misd_count', 'juv_other_count', 'juv_fel_count', 'priors_count', 'c_charge_degree', 'charge_cat']].copy()\n",
        "\n",
        "#Labels for categorical features in input data frame are binarized below\n",
        "\n",
        "drop_desc = pd.get_dummies(drop_desc, columns=['age_cat', 'sex', 'c_charge_degree', 'charge_cat', 'juv_other_count', 'juv_misd_count', 'juv_fel_count', 'priors_count'])\n",
        "drop_desc.shape"
      ],
      "execution_count": null,
      "outputs": [
        {
          "output_type": "execute_result",
          "data": {
            "text/plain": [
              "(10598, 94)"
            ]
          },
          "metadata": {
            "tags": []
          },
          "execution_count": 31
        }
      ]
    },
    {
      "cell_type": "code",
      "metadata": {
        "id": "KTBB-cfiPuy5"
      },
      "source": [
        "drop_desc.to_pickle(r\"/gdrive/My Drive/drop_desc.pkl\")"
      ],
      "execution_count": null,
      "outputs": []
    },
    {
      "cell_type": "markdown",
      "metadata": {
        "id": "G-h4Xuk_qKRK"
      },
      "source": [
        "# SPLIT DATASET ACC. TO RACE\n",
        "\n",
        "\n",
        "---\n",
        "\n",
        "\n",
        "The following metod is suggested in: Calders, Toon, and Sicco Verwer. \"Three naive\n",
        "Bayes approaches for discrimination-free\n",
        "classification.\"\n",
        "\n",
        "According to which one of the methods to remove bias towards protected groups is to analyze them seperately. "
      ]
    },
    {
      "cell_type": "code",
      "metadata": {
        "id": "onKLm2mi66MS",
        "colab": {
          "base_uri": "https://localhost:8080/",
          "height": 195
        },
        "outputId": "9d297dbd-354f-4778-ef34-e156ce666db7"
      },
      "source": [
        "#TODO: Split the dataset according to the race  \n",
        "Afr_data = data[data.race == 'African-American']\n",
        "Nat_Ameri_data = data[data.race == 'Native American']\n",
        "Afr_data.head()"
      ],
      "execution_count": null,
      "outputs": [
        {
          "output_type": "execute_result",
          "data": {
            "text/html": [
              "<div>\n",
              "<style scoped>\n",
              "    .dataframe tbody tr th:only-of-type {\n",
              "        vertical-align: middle;\n",
              "    }\n",
              "\n",
              "    .dataframe tbody tr th {\n",
              "        vertical-align: top;\n",
              "    }\n",
              "\n",
              "    .dataframe thead th {\n",
              "        text-align: right;\n",
              "    }\n",
              "</style>\n",
              "<table border=\"1\" class=\"dataframe\">\n",
              "  <thead>\n",
              "    <tr style=\"text-align: right;\">\n",
              "      <th></th>\n",
              "      <th>age_cat</th>\n",
              "      <th>sex</th>\n",
              "      <th>race</th>\n",
              "      <th>decile_score</th>\n",
              "      <th>juv_fel_count</th>\n",
              "      <th>juv_misd_count</th>\n",
              "      <th>juv_other_count</th>\n",
              "      <th>priors_count</th>\n",
              "      <th>c_charge_degree</th>\n",
              "      <th>c_charge_desc</th>\n",
              "      <th>is_recid</th>\n",
              "      <th>charge_cat</th>\n",
              "    </tr>\n",
              "  </thead>\n",
              "  <tbody>\n",
              "    <tr>\n",
              "      <th>3</th>\n",
              "      <td>25 - 45</td>\n",
              "      <td>Male</td>\n",
              "      <td>African-American</td>\n",
              "      <td>3</td>\n",
              "      <td>0</td>\n",
              "      <td>0</td>\n",
              "      <td>0</td>\n",
              "      <td>0</td>\n",
              "      <td>(F3)</td>\n",
              "      <td>felony Battery</td>\n",
              "      <td>1</td>\n",
              "      <td>Violent crime</td>\n",
              "    </tr>\n",
              "    <tr>\n",
              "      <th>4</th>\n",
              "      <td>Less than 25</td>\n",
              "      <td>Male</td>\n",
              "      <td>African-American</td>\n",
              "      <td>4</td>\n",
              "      <td>0</td>\n",
              "      <td>0</td>\n",
              "      <td>1</td>\n",
              "      <td>4</td>\n",
              "      <td>(F3)</td>\n",
              "      <td>Possession of drugs</td>\n",
              "      <td>1</td>\n",
              "      <td>Non-violent crime</td>\n",
              "    </tr>\n",
              "    <tr>\n",
              "      <th>9</th>\n",
              "      <td>Less than 25</td>\n",
              "      <td>Male</td>\n",
              "      <td>African-American</td>\n",
              "      <td>8</td>\n",
              "      <td>0</td>\n",
              "      <td>1</td>\n",
              "      <td>0</td>\n",
              "      <td>1</td>\n",
              "      <td>(F3)</td>\n",
              "      <td>Possession of drugs</td>\n",
              "      <td>0</td>\n",
              "      <td>Non-violent crime</td>\n",
              "    </tr>\n",
              "    <tr>\n",
              "      <th>26</th>\n",
              "      <td>Less than 25</td>\n",
              "      <td>Male</td>\n",
              "      <td>African-American</td>\n",
              "      <td>6</td>\n",
              "      <td>0</td>\n",
              "      <td>0</td>\n",
              "      <td>0</td>\n",
              "      <td>3</td>\n",
              "      <td>(M1)</td>\n",
              "      <td>Battery</td>\n",
              "      <td>1</td>\n",
              "      <td>Non-violent crime</td>\n",
              "    </tr>\n",
              "    <tr>\n",
              "      <th>29</th>\n",
              "      <td>25 - 45</td>\n",
              "      <td>Male</td>\n",
              "      <td>African-American</td>\n",
              "      <td>4</td>\n",
              "      <td>0</td>\n",
              "      <td>0</td>\n",
              "      <td>0</td>\n",
              "      <td>0</td>\n",
              "      <td>(F3)</td>\n",
              "      <td>Possession of drugs</td>\n",
              "      <td>0</td>\n",
              "      <td>Non-violent crime</td>\n",
              "    </tr>\n",
              "  </tbody>\n",
              "</table>\n",
              "</div>"
            ],
            "text/plain": [
              "         age_cat   sex  ... is_recid         charge_cat\n",
              "3        25 - 45  Male  ...        1      Violent crime\n",
              "4   Less than 25  Male  ...        1  Non-violent crime\n",
              "9   Less than 25  Male  ...        0  Non-violent crime\n",
              "26  Less than 25  Male  ...        1  Non-violent crime\n",
              "29       25 - 45  Male  ...        0  Non-violent crime\n",
              "\n",
              "[5 rows x 12 columns]"
            ]
          },
          "metadata": {
            "tags": []
          },
          "execution_count": 33
        }
      ]
    },
    {
      "cell_type": "code",
      "metadata": {
        "id": "zKFKRuw_BeZ9"
      },
      "source": [
        "#Seperate input and output datasets are created for both African-American\n",
        "Afr_inp_data = Afr_data[['age_cat', 'sex', 'juv_fel_count', 'juv_misd_count', 'juv_other_count', 'priors_count', 'c_charge_degree', 'c_charge_desc', 'charge_cat']].copy()\n",
        "Afr_out_data = Afr_data[['is_recid']].copy()"
      ],
      "execution_count": null,
      "outputs": []
    },
    {
      "cell_type": "code",
      "metadata": {
        "id": "dUsVmSCnmwHJ"
      },
      "source": [
        "#Categorical variables are binarized from both the datasets created\n",
        "Afr_inp_data = pd.get_dummies(Afr_inp_data, columns=['age_cat', 'sex', 'juv_fel_count', 'juv_misd_count', 'juv_other_count', 'priors_count', 'c_charge_degree', 'c_charge_desc', 'charge_cat'])"
      ],
      "execution_count": null,
      "outputs": []
    },
    {
      "cell_type": "code",
      "metadata": {
        "id": "eeh5k3d-m5Fg"
      },
      "source": [
        "Afr_inp_data.to_pickle(r\"/gdrive/My Drive/Afr_inp_data.pkl\")\n",
        "Afr_out_data.to_pickle(r\"/gdrive/My Drive/Afr_out_data.pkl\")"
      ],
      "execution_count": null,
      "outputs": []
    }
  ]
}